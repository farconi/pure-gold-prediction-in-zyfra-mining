{
 "cells": [
  {
   "cell_type": "markdown",
   "metadata": {},
   "source": [
    "# Pure Gold Prediction in Zyfra Mining"
   ]
  },
  {
   "cell_type": "markdown",
   "metadata": {},
   "source": [
    "## Introduction"
   ]
  },
  {
   "cell_type": "markdown",
   "metadata": {},
   "source": [
    "### Description of Zyfra Mining and its area of expertise"
   ]
  },
  {
   "cell_type": "markdown",
   "metadata": {},
   "source": [
    "Zyfra Mining, formerly known as VIST Group, is a part of the Zyfra group with 31 years of experience and global presence in the development and implementation of IT, AI and automation based solutions for the mining industry. The company has offices and partners in several mining regions around the world, such as Peru, Morocco, India, South Africa, Russia, Chile, Kazakhstan, Belarus, among others.\n",
    "\n",
    "Zyfra Mining's main objective is to offer solutions to improve efficiency and productivity in heavy industry. Its solutions aim to increase productivity, reduce operating costs, minimize adverse human impact, improve safety and decision-making in mining operations. With more than 80 implementations at leading mining companies around the world, Zyfra Mining is recognized for its industry knowledge and expertise.\n",
    "\n",
    "By applying advanced technologies such as artificial intelligence and automation, Zyfra Mining seeks to drive progress and innovation in the mining industry, contributing to a more efficient, safe and sustainable sector."
   ]
  },
  {
   "cell_type": "markdown",
   "metadata": {},
   "source": [
    "### Project purpose and task context"
   ]
  },
  {
   "cell_type": "markdown",
   "metadata": {},
   "source": [
    "The objective of this project is to build a machine learning model that can predict the amount of pure gold extracted from gold ore.\n",
    "\n",
    "Data for this project is provided by Zyfra Mining. The data includes information about the gold extraction and purification process, as well as the amount of pure gold mined.\n",
    "\n",
    "We will train the model on a training dataset and then evaluate it on a test dataset. We will evaluate the model using the mean absolute percent error s (sMAPE) metric. The best model will be the one with the smallest sMAPE.\n",
    "\n",
    "The model will be used to optimize gold production and eliminate unprofitable parameters. The model could also be used to predict the amount of pure gold extracted from different types of gold ore.\n",
    "\n",
    "We are confident that our model will be a valuable tool for Zyfra Mining. We look forward to working with the company to develop the model and implement it across their operations."
   ]
  },
  {
   "cell_type": "markdown",
   "metadata": {},
   "source": [
    "## Technological Process"
   ]
  },
  {
   "cell_type": "markdown",
   "metadata": {},
   "source": [
    "### Description of the process for extracting gold from the ore, including flotation and purification:"
   ]
  },
  {
   "cell_type": "markdown",
   "metadata": {},
   "source": [
    "#### Flotation\n",
    "\n",
    "\n",
    "Extracting gold from ore begins with the flotation process. The extracted ore undergoes primary processing to obtain an ore mixture, which is the raw material used in flotation. Flotation is a method of ore concentration, where the ore mixture is fed into flotation banks.\n",
    "In flotation banks, flotation reagents are added to the ore mixture. These reagents include xanthate (a flotation promoter or activator), sodium sulfide, and sodium silicate (used as depressants). The purpose of flotation is to separate the gold from the other minerals present in the ore.\n",
    "\n",
    "During flotation, a flotation slurry is formed, which is a mixture of solid and liquid particles. The gold becomes concentrate and raw gold concentrate is obtained, together with other crude ores that contain products with low concentration of valuable metals. The stability of this process is affected by the volatile and non-optimal physical-chemical state of the flotation slurry."
   ]
  },
  {
   "cell_type": "markdown",
   "metadata": {},
   "source": [
    "#### Purification:\n",
    "\n",
    "After the flotation step, the raw gold concentrate goes through two purification steps. The purpose of purification is to remove impurities and increase the gold concentration.\n",
    "In the first purification step, the crude concentrate is subjected to additional processes, such as washing and treatment with reagents, to remove impurities and improve the quality of the gold. At this stage, new scrap ore is also obtained.\n",
    "\n",
    "Then, the concentrate resulting from the first purification step goes through a second purification step. New processes are carried out to eliminate remaining impurities and further increase the gold concentration. After the final purification, the final gold concentrate is obtained, which is a purer and more concentrated form of gold.\n",
    "\n",
    "During the entire extraction and purification process, several parameters are monitored, such as air amount, fluid levels, feed size and feed rate. ). These parameters play an important role in controlling and optimizing the gold extraction process.\n",
    "\n",
    "The aim of the project is to develop a machine learning model capable of predicting the amount of pure gold extracted from the ore based on available data on extraction and purification. This will allow optimizing production and eliminating unprofitable parameters, contributing to the efficiency and effectiveness of the gold mining industry."
   ]
  },
  {
   "cell_type": "markdown",
   "metadata": {},
   "source": [
    "### Explanation of the parameters and characteristics of the gold extraction process:\n",
    "\n",
    "1. Process Parameters:\n",
    "\n",
    "- Rougher Feed: Refers to the raw material, ie the gold ore mixture that is fed into the flotation process.\n",
    "- Rougher Additions: These are the flotation reagents added to the gold ore during the flotation stage. Reagents include Xanthate, Sulfide and Depressor.\n",
    "   - Xanthate: It is a flotation promoter or activator, used to improve gold recovery.\n",
    "   - Sulphate: It is the specific sodium sulfide used for this flotation process.\n",
    "   - Depressant: It is sodium silicate, which acts as a depressant to prevent the flotation of unwanted minerals.\n",
    "- Rougher Process: Refers to the flotation stage itself, where gold and other minerals are separated from the ore.\n",
    "- Rougher Tails: These are the product residues resulting from the flotation stage, containing products with low concentration of valuable metals.\n",
    "- Float Banks: It is the flotation unit where the flotation process takes place.\n",
    "\n",
    "2. Process Characteristics:\n",
    "\n",
    "- Rougher Au: It is the raw gold concentrate obtained after the flotation step. This characteristic represents the concentration of gold in the raw concentrate.\n",
    "- Final Au: It is the final gold concentrate obtained after the purification steps. This characteristic represents the concentration of gold in the final concentrate.\n",
    "\n",
    "The gold extraction process consists of feeding the gold ore mixture into flotation banks, where flotation takes place to separate the gold from the other minerals. Flotation reagents are added to facilitate this process. After flotation, raw gold concentrate is obtained along with other ore residues. The crude concentrate then goes through two purification steps to improve the gold concentration, resulting in the final gold concentrate.\n",
    "\n",
    "Parameters such as air amount, fluid levels, feed size and feed rate play an important role in controlling and optimizing the extraction process. . Characteristics, such as the concentration of gold in the raw concentrate (Rougher Au) and in the final concentrate (Final Au), are fundamental for evaluating the quality of the process and for predicting the amount of pure gold extracted."
   ]
  },
  {
   "cell_type": "markdown",
   "metadata": {},
   "source": [
    "## Data analysis"
   ]
  },
  {
   "cell_type": "markdown",
   "metadata": {},
   "source": [
    "### Data preparation"
   ]
  },
  {
   "cell_type": "markdown",
   "metadata": {},
   "source": [
    "#### Importing libraries"
   ]
  },
  {
   "cell_type": "code",
   "execution_count": 13,
   "metadata": {},
   "outputs": [],
   "source": [
    "# Importing libraries needed for work\n",
    "import pandas as pd \n",
    "import matplotlib.pyplot as plt\n",
    "import seaborn as sns\n",
    "import numpy as np\n",
    "import re\n",
    "from sklearn.metrics import mean_absolute_error\n",
    "from sklearn.linear_model import LinearRegression\n",
    "from sklearn.model_selection import cross_val_score\n",
    "from sklearn.tree import DecisionTreeRegressor\n",
    "from sklearn.ensemble import RandomForestRegressor\n",
    "from sklearn.preprocessing import StandardScaler"
   ]
  },
  {
   "cell_type": "markdown",
   "metadata": {},
   "source": [
    "#### Importing databases"
   ]
  },
  {
   "cell_type": "code",
   "execution_count": 14,
   "metadata": {},
   "outputs": [],
   "source": [
    "# Importing the databases\n",
    "df_train = pd.read_csv('/datasets/gold_recovery_train.csv')\n",
    "df_test = pd.read_csv('/datasets/gold_recovery_test.csv')\n",
    "df_full = pd.read_csv('/datasets/gold_recovery_full.csv')"
   ]
  },
  {
   "cell_type": "code",
   "execution_count": 15,
   "metadata": {
    "scrolled": false
   },
   "outputs": [
    {
     "data": {
      "text/html": [
       "<div>\n",
       "<style scoped>\n",
       "    .dataframe tbody tr th:only-of-type {\n",
       "        vertical-align: middle;\n",
       "    }\n",
       "\n",
       "    .dataframe tbody tr th {\n",
       "        vertical-align: top;\n",
       "    }\n",
       "\n",
       "    .dataframe thead th {\n",
       "        text-align: right;\n",
       "    }\n",
       "</style>\n",
       "<table border=\"1\" class=\"dataframe\">\n",
       "  <thead>\n",
       "    <tr style=\"text-align: right;\">\n",
       "      <th></th>\n",
       "      <th>date</th>\n",
       "      <th>final.output.concentrate_ag</th>\n",
       "      <th>final.output.concentrate_pb</th>\n",
       "      <th>final.output.concentrate_sol</th>\n",
       "      <th>final.output.concentrate_au</th>\n",
       "      <th>final.output.recovery</th>\n",
       "      <th>final.output.tail_ag</th>\n",
       "      <th>final.output.tail_pb</th>\n",
       "      <th>final.output.tail_sol</th>\n",
       "      <th>final.output.tail_au</th>\n",
       "      <th>...</th>\n",
       "      <th>secondary_cleaner.state.floatbank4_a_air</th>\n",
       "      <th>secondary_cleaner.state.floatbank4_a_level</th>\n",
       "      <th>secondary_cleaner.state.floatbank4_b_air</th>\n",
       "      <th>secondary_cleaner.state.floatbank4_b_level</th>\n",
       "      <th>secondary_cleaner.state.floatbank5_a_air</th>\n",
       "      <th>secondary_cleaner.state.floatbank5_a_level</th>\n",
       "      <th>secondary_cleaner.state.floatbank5_b_air</th>\n",
       "      <th>secondary_cleaner.state.floatbank5_b_level</th>\n",
       "      <th>secondary_cleaner.state.floatbank6_a_air</th>\n",
       "      <th>secondary_cleaner.state.floatbank6_a_level</th>\n",
       "    </tr>\n",
       "  </thead>\n",
       "  <tbody>\n",
       "    <tr>\n",
       "      <th>0</th>\n",
       "      <td>2016-01-15 00:00:00</td>\n",
       "      <td>6.055403</td>\n",
       "      <td>9.889648</td>\n",
       "      <td>5.507324</td>\n",
       "      <td>42.192020</td>\n",
       "      <td>70.541216</td>\n",
       "      <td>10.411962</td>\n",
       "      <td>0.895447</td>\n",
       "      <td>16.904297</td>\n",
       "      <td>2.143149</td>\n",
       "      <td>...</td>\n",
       "      <td>14.016835</td>\n",
       "      <td>-502.488007</td>\n",
       "      <td>12.099931</td>\n",
       "      <td>-504.715942</td>\n",
       "      <td>9.925633</td>\n",
       "      <td>-498.310211</td>\n",
       "      <td>8.079666</td>\n",
       "      <td>-500.470978</td>\n",
       "      <td>14.151341</td>\n",
       "      <td>-605.841980</td>\n",
       "    </tr>\n",
       "    <tr>\n",
       "      <th>1</th>\n",
       "      <td>2016-01-15 01:00:00</td>\n",
       "      <td>6.029369</td>\n",
       "      <td>9.968944</td>\n",
       "      <td>5.257781</td>\n",
       "      <td>42.701629</td>\n",
       "      <td>69.266198</td>\n",
       "      <td>10.462676</td>\n",
       "      <td>0.927452</td>\n",
       "      <td>16.634514</td>\n",
       "      <td>2.224930</td>\n",
       "      <td>...</td>\n",
       "      <td>13.992281</td>\n",
       "      <td>-505.503262</td>\n",
       "      <td>11.950531</td>\n",
       "      <td>-501.331529</td>\n",
       "      <td>10.039245</td>\n",
       "      <td>-500.169983</td>\n",
       "      <td>7.984757</td>\n",
       "      <td>-500.582168</td>\n",
       "      <td>13.998353</td>\n",
       "      <td>-599.787184</td>\n",
       "    </tr>\n",
       "    <tr>\n",
       "      <th>2</th>\n",
       "      <td>2016-01-15 02:00:00</td>\n",
       "      <td>6.055926</td>\n",
       "      <td>10.213995</td>\n",
       "      <td>5.383759</td>\n",
       "      <td>42.657501</td>\n",
       "      <td>68.116445</td>\n",
       "      <td>10.507046</td>\n",
       "      <td>0.953716</td>\n",
       "      <td>16.208849</td>\n",
       "      <td>2.257889</td>\n",
       "      <td>...</td>\n",
       "      <td>14.015015</td>\n",
       "      <td>-502.520901</td>\n",
       "      <td>11.912783</td>\n",
       "      <td>-501.133383</td>\n",
       "      <td>10.070913</td>\n",
       "      <td>-500.129135</td>\n",
       "      <td>8.013877</td>\n",
       "      <td>-500.517572</td>\n",
       "      <td>14.028663</td>\n",
       "      <td>-601.427363</td>\n",
       "    </tr>\n",
       "    <tr>\n",
       "      <th>3</th>\n",
       "      <td>2016-01-15 03:00:00</td>\n",
       "      <td>6.047977</td>\n",
       "      <td>9.977019</td>\n",
       "      <td>4.858634</td>\n",
       "      <td>42.689819</td>\n",
       "      <td>68.347543</td>\n",
       "      <td>10.422762</td>\n",
       "      <td>0.883763</td>\n",
       "      <td>16.532835</td>\n",
       "      <td>2.146849</td>\n",
       "      <td>...</td>\n",
       "      <td>14.036510</td>\n",
       "      <td>-500.857308</td>\n",
       "      <td>11.999550</td>\n",
       "      <td>-501.193686</td>\n",
       "      <td>9.970366</td>\n",
       "      <td>-499.201640</td>\n",
       "      <td>7.977324</td>\n",
       "      <td>-500.255908</td>\n",
       "      <td>14.005551</td>\n",
       "      <td>-599.996129</td>\n",
       "    </tr>\n",
       "    <tr>\n",
       "      <th>4</th>\n",
       "      <td>2016-01-15 04:00:00</td>\n",
       "      <td>6.148599</td>\n",
       "      <td>10.142511</td>\n",
       "      <td>4.939416</td>\n",
       "      <td>42.774141</td>\n",
       "      <td>66.927016</td>\n",
       "      <td>10.360302</td>\n",
       "      <td>0.792826</td>\n",
       "      <td>16.525686</td>\n",
       "      <td>2.055292</td>\n",
       "      <td>...</td>\n",
       "      <td>14.027298</td>\n",
       "      <td>-499.838632</td>\n",
       "      <td>11.953070</td>\n",
       "      <td>-501.053894</td>\n",
       "      <td>9.925709</td>\n",
       "      <td>-501.686727</td>\n",
       "      <td>7.894242</td>\n",
       "      <td>-500.356035</td>\n",
       "      <td>13.996647</td>\n",
       "      <td>-601.496691</td>\n",
       "    </tr>\n",
       "    <tr>\n",
       "      <th>...</th>\n",
       "      <td>...</td>\n",
       "      <td>...</td>\n",
       "      <td>...</td>\n",
       "      <td>...</td>\n",
       "      <td>...</td>\n",
       "      <td>...</td>\n",
       "      <td>...</td>\n",
       "      <td>...</td>\n",
       "      <td>...</td>\n",
       "      <td>...</td>\n",
       "      <td>...</td>\n",
       "      <td>...</td>\n",
       "      <td>...</td>\n",
       "      <td>...</td>\n",
       "      <td>...</td>\n",
       "      <td>...</td>\n",
       "      <td>...</td>\n",
       "      <td>...</td>\n",
       "      <td>...</td>\n",
       "      <td>...</td>\n",
       "      <td>...</td>\n",
       "    </tr>\n",
       "    <tr>\n",
       "      <th>16855</th>\n",
       "      <td>2018-08-18 06:59:59</td>\n",
       "      <td>3.224920</td>\n",
       "      <td>11.356233</td>\n",
       "      <td>6.803482</td>\n",
       "      <td>46.713954</td>\n",
       "      <td>73.755150</td>\n",
       "      <td>8.769645</td>\n",
       "      <td>3.141541</td>\n",
       "      <td>10.403181</td>\n",
       "      <td>1.529220</td>\n",
       "      <td>...</td>\n",
       "      <td>23.031497</td>\n",
       "      <td>-501.167942</td>\n",
       "      <td>20.007571</td>\n",
       "      <td>-499.740028</td>\n",
       "      <td>18.006038</td>\n",
       "      <td>-499.834374</td>\n",
       "      <td>13.001114</td>\n",
       "      <td>-500.155694</td>\n",
       "      <td>20.007840</td>\n",
       "      <td>-501.296428</td>\n",
       "    </tr>\n",
       "    <tr>\n",
       "      <th>16856</th>\n",
       "      <td>2018-08-18 07:59:59</td>\n",
       "      <td>3.195978</td>\n",
       "      <td>11.349355</td>\n",
       "      <td>6.862249</td>\n",
       "      <td>46.866780</td>\n",
       "      <td>69.049291</td>\n",
       "      <td>8.897321</td>\n",
       "      <td>3.130493</td>\n",
       "      <td>10.549470</td>\n",
       "      <td>1.612542</td>\n",
       "      <td>...</td>\n",
       "      <td>22.960095</td>\n",
       "      <td>-501.612783</td>\n",
       "      <td>20.035660</td>\n",
       "      <td>-500.251357</td>\n",
       "      <td>17.998535</td>\n",
       "      <td>-500.395178</td>\n",
       "      <td>12.954048</td>\n",
       "      <td>-499.895163</td>\n",
       "      <td>19.968498</td>\n",
       "      <td>-501.041608</td>\n",
       "    </tr>\n",
       "    <tr>\n",
       "      <th>16857</th>\n",
       "      <td>2018-08-18 08:59:59</td>\n",
       "      <td>3.109998</td>\n",
       "      <td>11.434366</td>\n",
       "      <td>6.886013</td>\n",
       "      <td>46.795691</td>\n",
       "      <td>67.002189</td>\n",
       "      <td>8.529606</td>\n",
       "      <td>2.911418</td>\n",
       "      <td>11.115147</td>\n",
       "      <td>1.596616</td>\n",
       "      <td>...</td>\n",
       "      <td>23.015718</td>\n",
       "      <td>-501.711599</td>\n",
       "      <td>19.951231</td>\n",
       "      <td>-499.857027</td>\n",
       "      <td>18.019543</td>\n",
       "      <td>-500.451156</td>\n",
       "      <td>13.023431</td>\n",
       "      <td>-499.914391</td>\n",
       "      <td>19.990885</td>\n",
       "      <td>-501.518452</td>\n",
       "    </tr>\n",
       "    <tr>\n",
       "      <th>16858</th>\n",
       "      <td>2018-08-18 09:59:59</td>\n",
       "      <td>3.367241</td>\n",
       "      <td>11.625587</td>\n",
       "      <td>6.799433</td>\n",
       "      <td>46.408188</td>\n",
       "      <td>65.523246</td>\n",
       "      <td>8.777171</td>\n",
       "      <td>2.819214</td>\n",
       "      <td>10.463847</td>\n",
       "      <td>1.602879</td>\n",
       "      <td>...</td>\n",
       "      <td>23.024963</td>\n",
       "      <td>-501.153409</td>\n",
       "      <td>20.054122</td>\n",
       "      <td>-500.314711</td>\n",
       "      <td>17.979515</td>\n",
       "      <td>-499.272871</td>\n",
       "      <td>12.992404</td>\n",
       "      <td>-499.976268</td>\n",
       "      <td>20.013986</td>\n",
       "      <td>-500.625471</td>\n",
       "    </tr>\n",
       "    <tr>\n",
       "      <th>16859</th>\n",
       "      <td>2018-08-18 10:59:59</td>\n",
       "      <td>3.598375</td>\n",
       "      <td>11.737832</td>\n",
       "      <td>6.717509</td>\n",
       "      <td>46.299438</td>\n",
       "      <td>70.281454</td>\n",
       "      <td>8.406690</td>\n",
       "      <td>2.517518</td>\n",
       "      <td>10.652193</td>\n",
       "      <td>1.389434</td>\n",
       "      <td>...</td>\n",
       "      <td>23.018622</td>\n",
       "      <td>-500.492702</td>\n",
       "      <td>20.020205</td>\n",
       "      <td>-500.220296</td>\n",
       "      <td>17.963512</td>\n",
       "      <td>-499.939490</td>\n",
       "      <td>12.990306</td>\n",
       "      <td>-500.080993</td>\n",
       "      <td>19.990336</td>\n",
       "      <td>-499.191575</td>\n",
       "    </tr>\n",
       "  </tbody>\n",
       "</table>\n",
       "<p>16860 rows × 87 columns</p>\n",
       "</div>"
      ],
      "text/plain": [
       "                      date  final.output.concentrate_ag  \\\n",
       "0      2016-01-15 00:00:00                     6.055403   \n",
       "1      2016-01-15 01:00:00                     6.029369   \n",
       "2      2016-01-15 02:00:00                     6.055926   \n",
       "3      2016-01-15 03:00:00                     6.047977   \n",
       "4      2016-01-15 04:00:00                     6.148599   \n",
       "...                    ...                          ...   \n",
       "16855  2018-08-18 06:59:59                     3.224920   \n",
       "16856  2018-08-18 07:59:59                     3.195978   \n",
       "16857  2018-08-18 08:59:59                     3.109998   \n",
       "16858  2018-08-18 09:59:59                     3.367241   \n",
       "16859  2018-08-18 10:59:59                     3.598375   \n",
       "\n",
       "       final.output.concentrate_pb  final.output.concentrate_sol  \\\n",
       "0                         9.889648                      5.507324   \n",
       "1                         9.968944                      5.257781   \n",
       "2                        10.213995                      5.383759   \n",
       "3                         9.977019                      4.858634   \n",
       "4                        10.142511                      4.939416   \n",
       "...                            ...                           ...   \n",
       "16855                    11.356233                      6.803482   \n",
       "16856                    11.349355                      6.862249   \n",
       "16857                    11.434366                      6.886013   \n",
       "16858                    11.625587                      6.799433   \n",
       "16859                    11.737832                      6.717509   \n",
       "\n",
       "       final.output.concentrate_au  final.output.recovery  \\\n",
       "0                        42.192020              70.541216   \n",
       "1                        42.701629              69.266198   \n",
       "2                        42.657501              68.116445   \n",
       "3                        42.689819              68.347543   \n",
       "4                        42.774141              66.927016   \n",
       "...                            ...                    ...   \n",
       "16855                    46.713954              73.755150   \n",
       "16856                    46.866780              69.049291   \n",
       "16857                    46.795691              67.002189   \n",
       "16858                    46.408188              65.523246   \n",
       "16859                    46.299438              70.281454   \n",
       "\n",
       "       final.output.tail_ag  final.output.tail_pb  final.output.tail_sol  \\\n",
       "0                 10.411962              0.895447              16.904297   \n",
       "1                 10.462676              0.927452              16.634514   \n",
       "2                 10.507046              0.953716              16.208849   \n",
       "3                 10.422762              0.883763              16.532835   \n",
       "4                 10.360302              0.792826              16.525686   \n",
       "...                     ...                   ...                    ...   \n",
       "16855              8.769645              3.141541              10.403181   \n",
       "16856              8.897321              3.130493              10.549470   \n",
       "16857              8.529606              2.911418              11.115147   \n",
       "16858              8.777171              2.819214              10.463847   \n",
       "16859              8.406690              2.517518              10.652193   \n",
       "\n",
       "       final.output.tail_au  ...  secondary_cleaner.state.floatbank4_a_air  \\\n",
       "0                  2.143149  ...                                 14.016835   \n",
       "1                  2.224930  ...                                 13.992281   \n",
       "2                  2.257889  ...                                 14.015015   \n",
       "3                  2.146849  ...                                 14.036510   \n",
       "4                  2.055292  ...                                 14.027298   \n",
       "...                     ...  ...                                       ...   \n",
       "16855              1.529220  ...                                 23.031497   \n",
       "16856              1.612542  ...                                 22.960095   \n",
       "16857              1.596616  ...                                 23.015718   \n",
       "16858              1.602879  ...                                 23.024963   \n",
       "16859              1.389434  ...                                 23.018622   \n",
       "\n",
       "       secondary_cleaner.state.floatbank4_a_level  \\\n",
       "0                                     -502.488007   \n",
       "1                                     -505.503262   \n",
       "2                                     -502.520901   \n",
       "3                                     -500.857308   \n",
       "4                                     -499.838632   \n",
       "...                                           ...   \n",
       "16855                                 -501.167942   \n",
       "16856                                 -501.612783   \n",
       "16857                                 -501.711599   \n",
       "16858                                 -501.153409   \n",
       "16859                                 -500.492702   \n",
       "\n",
       "       secondary_cleaner.state.floatbank4_b_air  \\\n",
       "0                                     12.099931   \n",
       "1                                     11.950531   \n",
       "2                                     11.912783   \n",
       "3                                     11.999550   \n",
       "4                                     11.953070   \n",
       "...                                         ...   \n",
       "16855                                 20.007571   \n",
       "16856                                 20.035660   \n",
       "16857                                 19.951231   \n",
       "16858                                 20.054122   \n",
       "16859                                 20.020205   \n",
       "\n",
       "       secondary_cleaner.state.floatbank4_b_level  \\\n",
       "0                                     -504.715942   \n",
       "1                                     -501.331529   \n",
       "2                                     -501.133383   \n",
       "3                                     -501.193686   \n",
       "4                                     -501.053894   \n",
       "...                                           ...   \n",
       "16855                                 -499.740028   \n",
       "16856                                 -500.251357   \n",
       "16857                                 -499.857027   \n",
       "16858                                 -500.314711   \n",
       "16859                                 -500.220296   \n",
       "\n",
       "       secondary_cleaner.state.floatbank5_a_air  \\\n",
       "0                                      9.925633   \n",
       "1                                     10.039245   \n",
       "2                                     10.070913   \n",
       "3                                      9.970366   \n",
       "4                                      9.925709   \n",
       "...                                         ...   \n",
       "16855                                 18.006038   \n",
       "16856                                 17.998535   \n",
       "16857                                 18.019543   \n",
       "16858                                 17.979515   \n",
       "16859                                 17.963512   \n",
       "\n",
       "       secondary_cleaner.state.floatbank5_a_level  \\\n",
       "0                                     -498.310211   \n",
       "1                                     -500.169983   \n",
       "2                                     -500.129135   \n",
       "3                                     -499.201640   \n",
       "4                                     -501.686727   \n",
       "...                                           ...   \n",
       "16855                                 -499.834374   \n",
       "16856                                 -500.395178   \n",
       "16857                                 -500.451156   \n",
       "16858                                 -499.272871   \n",
       "16859                                 -499.939490   \n",
       "\n",
       "       secondary_cleaner.state.floatbank5_b_air  \\\n",
       "0                                      8.079666   \n",
       "1                                      7.984757   \n",
       "2                                      8.013877   \n",
       "3                                      7.977324   \n",
       "4                                      7.894242   \n",
       "...                                         ...   \n",
       "16855                                 13.001114   \n",
       "16856                                 12.954048   \n",
       "16857                                 13.023431   \n",
       "16858                                 12.992404   \n",
       "16859                                 12.990306   \n",
       "\n",
       "       secondary_cleaner.state.floatbank5_b_level  \\\n",
       "0                                     -500.470978   \n",
       "1                                     -500.582168   \n",
       "2                                     -500.517572   \n",
       "3                                     -500.255908   \n",
       "4                                     -500.356035   \n",
       "...                                           ...   \n",
       "16855                                 -500.155694   \n",
       "16856                                 -499.895163   \n",
       "16857                                 -499.914391   \n",
       "16858                                 -499.976268   \n",
       "16859                                 -500.080993   \n",
       "\n",
       "       secondary_cleaner.state.floatbank6_a_air  \\\n",
       "0                                     14.151341   \n",
       "1                                     13.998353   \n",
       "2                                     14.028663   \n",
       "3                                     14.005551   \n",
       "4                                     13.996647   \n",
       "...                                         ...   \n",
       "16855                                 20.007840   \n",
       "16856                                 19.968498   \n",
       "16857                                 19.990885   \n",
       "16858                                 20.013986   \n",
       "16859                                 19.990336   \n",
       "\n",
       "       secondary_cleaner.state.floatbank6_a_level  \n",
       "0                                     -605.841980  \n",
       "1                                     -599.787184  \n",
       "2                                     -601.427363  \n",
       "3                                     -599.996129  \n",
       "4                                     -601.496691  \n",
       "...                                           ...  \n",
       "16855                                 -501.296428  \n",
       "16856                                 -501.041608  \n",
       "16857                                 -501.518452  \n",
       "16858                                 -500.625471  \n",
       "16859                                 -499.191575  \n",
       "\n",
       "[16860 rows x 87 columns]"
      ]
     },
     "execution_count": 15,
     "metadata": {},
     "output_type": "execute_result"
    }
   ],
   "source": [
    "df_train"
   ]
  },
  {
   "cell_type": "markdown",
   "metadata": {},
   "source": [
    "#### Exploring the data"
   ]
  },
  {
   "cell_type": "code",
   "execution_count": 16,
   "metadata": {
    "scrolled": false
   },
   "outputs": [
    {
     "name": "stdout",
     "output_type": "stream",
     "text": [
      "(16860, 87)\n",
      "(5856, 53)\n",
      "(22716, 87)\n"
     ]
    }
   ],
   "source": [
    "# Checking the size of the tables\n",
    "\n",
    "print(df_train.shape)\n",
    "print(df_test.shape)\n",
    "print(df_full.shape)"
   ]
  },
  {
   "cell_type": "markdown",
   "metadata": {},
   "source": [
    "We can see that the amount of data of `df_train` (16860) added to that of `df_test` (5856) is exactly the amount of `df_full` (22716).\n",
    "\n",
    "However, the test Dataframe **has 34 fewer columns** than the other two.\n",
    "\n",
    "We will probably adapt, at least the training one, to the same number of columns, since normally no kind of interaction with test Dataframes is expected."
   ]
  },
  {
   "cell_type": "markdown",
   "metadata": {},
   "source": [
    "#### Checking duplicates"
   ]
  },
  {
   "cell_type": "code",
   "execution_count": 17,
   "metadata": {},
   "outputs": [
    {
     "name": "stdout",
     "output_type": "stream",
     "text": [
      "0\n",
      "0\n"
     ]
    }
   ],
   "source": [
    "# Using '.duplicated()' and '.sum()' methods to count duplicate values in tablesprint(df_train.duplicated().sum())\n",
    "print(df_test.duplicated().sum())\n",
    "print(df_full.duplicated().sum())"
   ]
  },
  {
   "cell_type": "markdown",
   "metadata": {},
   "source": [
    "Apparently we have a dataset with an effective collection."
   ]
  },
  {
   "cell_type": "markdown",
   "metadata": {},
   "source": [
    "#### Checking and working with NaN values"
   ]
  },
  {
   "cell_type": "code",
   "execution_count": 18,
   "metadata": {},
   "outputs": [
    {
     "name": "stdout",
     "output_type": "stream",
     "text": [
      "The percentage of missing values in df_train is: 2.0670566258982013\n",
      "The percentage of missing values in df_test is: 0.7603876688318383\n",
      "The percentage of missing values in df_full is: 1.851295253940207\n"
     ]
    }
   ],
   "source": [
    "print(\"The percentage of missing values in df_train is:\", df_train.isnull().sum().sum() / df_train.size * 100)\n",
    "print(\"The percentage of missing values in df_test is:\", df_test.isnull().sum().sum() / df_test.size * 100)\n",
    "print(\"The percentage of missing values in df_full is:\", df_full.isnull().sum().sum() / df_full.size * 100)"
   ]
  },
  {
   "cell_type": "markdown",
   "metadata": {},
   "source": [
    "It was weird, too perfect to be true. No, our Dataframes are not perfect.\n",
    "\n",
    "But since these NaN values don't represent much more than 2% of each table, we'll remove these to move on with our analysis."
   ]
  },
  {
   "cell_type": "code",
   "execution_count": 19,
   "metadata": {},
   "outputs": [
    {
     "name": "stdout",
     "output_type": "stream",
     "text": [
      "The percentage of missing values in df_train is: 0.0\n",
      "The percentage of missing values in df_test is: 0.0\n",
      "The percentage of missing values in df_full is: 0.0\n"
     ]
    }
   ],
   "source": [
    "# Erasing missing values from dataframes\n",
    "df_full = df_full.dropna()\n",
    "df_test = df_test.dropna()\n",
    "df_train = df_train.dropna()\n",
    "\n",
    "# And checking the results\n",
    "print(\"The percentage of missing values in df_train is:\", df_train.isnull().sum().sum() / df_train.size * 100)\n",
    "print(\"The percentage of missing values in df_test is:\", df_test.isnull().sum().sum() / df_test.size * 100)\n",
    "print(\"The percentage of missing values in df_full is:\", df_full.isnull().sum().sum() / df_full.size * 100)"
   ]
  },
  {
   "cell_type": "markdown",
   "metadata": {},
   "source": [
    "#### Indexing date for all tables"
   ]
  },
  {
   "cell_type": "markdown",
   "metadata": {},
   "source": [
    "We will make the date the index of our Dataframes. This will make them uncomparable, and we won't need to eliminate this column during the creation of our Machine Learning model."
   ]
  },
  {
   "cell_type": "code",
   "execution_count": 20,
   "metadata": {},
   "outputs": [],
   "source": [
    "# Transforming the 'date' column into the index of the three Dataframes\n",
    "df_train.set_index('date', inplace=True)\n",
    "df_test.set_index('date', inplace=True)\n",
    "df_full.set_index('date', inplace=True)"
   ]
  },
  {
   "cell_type": "markdown",
   "metadata": {},
   "source": [
    "#### Checking if data types make sense"
   ]
  },
  {
   "cell_type": "code",
   "execution_count": 21,
   "metadata": {},
   "outputs": [
    {
     "name": "stdout",
     "output_type": "stream",
     "text": [
      "<class 'pandas.core.frame.DataFrame'>\n",
      "Index: 11017 entries, 2016-01-15 00:00:00 to 2018-08-18 10:59:59\n",
      "Data columns (total 86 columns):\n",
      " #   Column                                              Non-Null Count  Dtype  \n",
      "---  ------                                              --------------  -----  \n",
      " 0   final.output.concentrate_ag                         11017 non-null  float64\n",
      " 1   final.output.concentrate_pb                         11017 non-null  float64\n",
      " 2   final.output.concentrate_sol                        11017 non-null  float64\n",
      " 3   final.output.concentrate_au                         11017 non-null  float64\n",
      " 4   final.output.recovery                               11017 non-null  float64\n",
      " 5   final.output.tail_ag                                11017 non-null  float64\n",
      " 6   final.output.tail_pb                                11017 non-null  float64\n",
      " 7   final.output.tail_sol                               11017 non-null  float64\n",
      " 8   final.output.tail_au                                11017 non-null  float64\n",
      " 9   primary_cleaner.input.sulfate                       11017 non-null  float64\n",
      " 10  primary_cleaner.input.depressant                    11017 non-null  float64\n",
      " 11  primary_cleaner.input.feed_size                     11017 non-null  float64\n",
      " 12  primary_cleaner.input.xanthate                      11017 non-null  float64\n",
      " 13  primary_cleaner.output.concentrate_ag               11017 non-null  float64\n",
      " 14  primary_cleaner.output.concentrate_pb               11017 non-null  float64\n",
      " 15  primary_cleaner.output.concentrate_sol              11017 non-null  float64\n",
      " 16  primary_cleaner.output.concentrate_au               11017 non-null  float64\n",
      " 17  primary_cleaner.output.tail_ag                      11017 non-null  float64\n",
      " 18  primary_cleaner.output.tail_pb                      11017 non-null  float64\n",
      " 19  primary_cleaner.output.tail_sol                     11017 non-null  float64\n",
      " 20  primary_cleaner.output.tail_au                      11017 non-null  float64\n",
      " 21  primary_cleaner.state.floatbank8_a_air              11017 non-null  float64\n",
      " 22  primary_cleaner.state.floatbank8_a_level            11017 non-null  float64\n",
      " 23  primary_cleaner.state.floatbank8_b_air              11017 non-null  float64\n",
      " 24  primary_cleaner.state.floatbank8_b_level            11017 non-null  float64\n",
      " 25  primary_cleaner.state.floatbank8_c_air              11017 non-null  float64\n",
      " 26  primary_cleaner.state.floatbank8_c_level            11017 non-null  float64\n",
      " 27  primary_cleaner.state.floatbank8_d_air              11017 non-null  float64\n",
      " 28  primary_cleaner.state.floatbank8_d_level            11017 non-null  float64\n",
      " 29  rougher.calculation.sulfate_to_au_concentrate       11017 non-null  float64\n",
      " 30  rougher.calculation.floatbank10_sulfate_to_au_feed  11017 non-null  float64\n",
      " 31  rougher.calculation.floatbank11_sulfate_to_au_feed  11017 non-null  float64\n",
      " 32  rougher.calculation.au_pb_ratio                     11017 non-null  float64\n",
      " 33  rougher.input.feed_ag                               11017 non-null  float64\n",
      " 34  rougher.input.feed_pb                               11017 non-null  float64\n",
      " 35  rougher.input.feed_rate                             11017 non-null  float64\n",
      " 36  rougher.input.feed_size                             11017 non-null  float64\n",
      " 37  rougher.input.feed_sol                              11017 non-null  float64\n",
      " 38  rougher.input.feed_au                               11017 non-null  float64\n",
      " 39  rougher.input.floatbank10_sulfate                   11017 non-null  float64\n",
      " 40  rougher.input.floatbank10_xanthate                  11017 non-null  float64\n",
      " 41  rougher.input.floatbank11_sulfate                   11017 non-null  float64\n",
      " 42  rougher.input.floatbank11_xanthate                  11017 non-null  float64\n",
      " 43  rougher.output.concentrate_ag                       11017 non-null  float64\n",
      " 44  rougher.output.concentrate_pb                       11017 non-null  float64\n",
      " 45  rougher.output.concentrate_sol                      11017 non-null  float64\n",
      " 46  rougher.output.concentrate_au                       11017 non-null  float64\n",
      " 47  rougher.output.recovery                             11017 non-null  float64\n",
      " 48  rougher.output.tail_ag                              11017 non-null  float64\n",
      " 49  rougher.output.tail_pb                              11017 non-null  float64\n",
      " 50  rougher.output.tail_sol                             11017 non-null  float64\n",
      " 51  rougher.output.tail_au                              11017 non-null  float64\n",
      " 52  rougher.state.floatbank10_a_air                     11017 non-null  float64\n",
      " 53  rougher.state.floatbank10_a_level                   11017 non-null  float64\n",
      " 54  rougher.state.floatbank10_b_air                     11017 non-null  float64\n",
      " 55  rougher.state.floatbank10_b_level                   11017 non-null  float64\n",
      " 56  rougher.state.floatbank10_c_air                     11017 non-null  float64\n",
      " 57  rougher.state.floatbank10_c_level                   11017 non-null  float64\n",
      " 58  rougher.state.floatbank10_d_air                     11017 non-null  float64\n",
      " 59  rougher.state.floatbank10_d_level                   11017 non-null  float64\n",
      " 60  rougher.state.floatbank10_e_air                     11017 non-null  float64\n",
      " 61  rougher.state.floatbank10_e_level                   11017 non-null  float64\n",
      " 62  rougher.state.floatbank10_f_air                     11017 non-null  float64\n",
      " 63  rougher.state.floatbank10_f_level                   11017 non-null  float64\n",
      " 64  secondary_cleaner.output.tail_ag                    11017 non-null  float64\n",
      " 65  secondary_cleaner.output.tail_pb                    11017 non-null  float64\n",
      " 66  secondary_cleaner.output.tail_sol                   11017 non-null  float64\n",
      " 67  secondary_cleaner.output.tail_au                    11017 non-null  float64\n",
      " 68  secondary_cleaner.state.floatbank2_a_air            11017 non-null  float64\n",
      " 69  secondary_cleaner.state.floatbank2_a_level          11017 non-null  float64\n",
      " 70  secondary_cleaner.state.floatbank2_b_air            11017 non-null  float64\n",
      " 71  secondary_cleaner.state.floatbank2_b_level          11017 non-null  float64\n",
      " 72  secondary_cleaner.state.floatbank3_a_air            11017 non-null  float64\n",
      " 73  secondary_cleaner.state.floatbank3_a_level          11017 non-null  float64\n",
      " 74  secondary_cleaner.state.floatbank3_b_air            11017 non-null  float64\n",
      " 75  secondary_cleaner.state.floatbank3_b_level          11017 non-null  float64\n",
      " 76  secondary_cleaner.state.floatbank4_a_air            11017 non-null  float64\n",
      " 77  secondary_cleaner.state.floatbank4_a_level          11017 non-null  float64\n",
      " 78  secondary_cleaner.state.floatbank4_b_air            11017 non-null  float64\n",
      " 79  secondary_cleaner.state.floatbank4_b_level          11017 non-null  float64\n",
      " 80  secondary_cleaner.state.floatbank5_a_air            11017 non-null  float64\n",
      " 81  secondary_cleaner.state.floatbank5_a_level          11017 non-null  float64\n",
      " 82  secondary_cleaner.state.floatbank5_b_air            11017 non-null  float64\n",
      " 83  secondary_cleaner.state.floatbank5_b_level          11017 non-null  float64\n",
      " 84  secondary_cleaner.state.floatbank6_a_air            11017 non-null  float64\n",
      " 85  secondary_cleaner.state.floatbank6_a_level          11017 non-null  float64\n",
      "dtypes: float64(86)\n",
      "memory usage: 7.3+ MB\n"
     ]
    }
   ],
   "source": [
    "# Fetching information from columns of 'df_train'\n",
    "df_train.info()"
   ]
  },
  {
   "cell_type": "code",
   "execution_count": 22,
   "metadata": {},
   "outputs": [
    {
     "name": "stdout",
     "output_type": "stream",
     "text": [
      "<class 'pandas.core.frame.DataFrame'>\n",
      "Index: 5383 entries, 2016-09-01 00:59:59 to 2017-12-31 23:59:59\n",
      "Data columns (total 52 columns):\n",
      " #   Column                                      Non-Null Count  Dtype  \n",
      "---  ------                                      --------------  -----  \n",
      " 0   primary_cleaner.input.sulfate               5383 non-null   float64\n",
      " 1   primary_cleaner.input.depressant            5383 non-null   float64\n",
      " 2   primary_cleaner.input.feed_size             5383 non-null   float64\n",
      " 3   primary_cleaner.input.xanthate              5383 non-null   float64\n",
      " 4   primary_cleaner.state.floatbank8_a_air      5383 non-null   float64\n",
      " 5   primary_cleaner.state.floatbank8_a_level    5383 non-null   float64\n",
      " 6   primary_cleaner.state.floatbank8_b_air      5383 non-null   float64\n",
      " 7   primary_cleaner.state.floatbank8_b_level    5383 non-null   float64\n",
      " 8   primary_cleaner.state.floatbank8_c_air      5383 non-null   float64\n",
      " 9   primary_cleaner.state.floatbank8_c_level    5383 non-null   float64\n",
      " 10  primary_cleaner.state.floatbank8_d_air      5383 non-null   float64\n",
      " 11  primary_cleaner.state.floatbank8_d_level    5383 non-null   float64\n",
      " 12  rougher.input.feed_ag                       5383 non-null   float64\n",
      " 13  rougher.input.feed_pb                       5383 non-null   float64\n",
      " 14  rougher.input.feed_rate                     5383 non-null   float64\n",
      " 15  rougher.input.feed_size                     5383 non-null   float64\n",
      " 16  rougher.input.feed_sol                      5383 non-null   float64\n",
      " 17  rougher.input.feed_au                       5383 non-null   float64\n",
      " 18  rougher.input.floatbank10_sulfate           5383 non-null   float64\n",
      " 19  rougher.input.floatbank10_xanthate          5383 non-null   float64\n",
      " 20  rougher.input.floatbank11_sulfate           5383 non-null   float64\n",
      " 21  rougher.input.floatbank11_xanthate          5383 non-null   float64\n",
      " 22  rougher.state.floatbank10_a_air             5383 non-null   float64\n",
      " 23  rougher.state.floatbank10_a_level           5383 non-null   float64\n",
      " 24  rougher.state.floatbank10_b_air             5383 non-null   float64\n",
      " 25  rougher.state.floatbank10_b_level           5383 non-null   float64\n",
      " 26  rougher.state.floatbank10_c_air             5383 non-null   float64\n",
      " 27  rougher.state.floatbank10_c_level           5383 non-null   float64\n",
      " 28  rougher.state.floatbank10_d_air             5383 non-null   float64\n",
      " 29  rougher.state.floatbank10_d_level           5383 non-null   float64\n",
      " 30  rougher.state.floatbank10_e_air             5383 non-null   float64\n",
      " 31  rougher.state.floatbank10_e_level           5383 non-null   float64\n",
      " 32  rougher.state.floatbank10_f_air             5383 non-null   float64\n",
      " 33  rougher.state.floatbank10_f_level           5383 non-null   float64\n",
      " 34  secondary_cleaner.state.floatbank2_a_air    5383 non-null   float64\n",
      " 35  secondary_cleaner.state.floatbank2_a_level  5383 non-null   float64\n",
      " 36  secondary_cleaner.state.floatbank2_b_air    5383 non-null   float64\n",
      " 37  secondary_cleaner.state.floatbank2_b_level  5383 non-null   float64\n",
      " 38  secondary_cleaner.state.floatbank3_a_air    5383 non-null   float64\n",
      " 39  secondary_cleaner.state.floatbank3_a_level  5383 non-null   float64\n",
      " 40  secondary_cleaner.state.floatbank3_b_air    5383 non-null   float64\n",
      " 41  secondary_cleaner.state.floatbank3_b_level  5383 non-null   float64\n",
      " 42  secondary_cleaner.state.floatbank4_a_air    5383 non-null   float64\n",
      " 43  secondary_cleaner.state.floatbank4_a_level  5383 non-null   float64\n",
      " 44  secondary_cleaner.state.floatbank4_b_air    5383 non-null   float64\n",
      " 45  secondary_cleaner.state.floatbank4_b_level  5383 non-null   float64\n",
      " 46  secondary_cleaner.state.floatbank5_a_air    5383 non-null   float64\n",
      " 47  secondary_cleaner.state.floatbank5_a_level  5383 non-null   float64\n",
      " 48  secondary_cleaner.state.floatbank5_b_air    5383 non-null   float64\n",
      " 49  secondary_cleaner.state.floatbank5_b_level  5383 non-null   float64\n",
      " 50  secondary_cleaner.state.floatbank6_a_air    5383 non-null   float64\n",
      " 51  secondary_cleaner.state.floatbank6_a_level  5383 non-null   float64\n",
      "dtypes: float64(52)\n",
      "memory usage: 2.2+ MB\n"
     ]
    }
   ],
   "source": [
    "# Fetching information from columns of 'df_test'\n",
    "df_test.info()"
   ]
  },
  {
   "cell_type": "code",
   "execution_count": 23,
   "metadata": {},
   "outputs": [
    {
     "name": "stdout",
     "output_type": "stream",
     "text": [
      "<class 'pandas.core.frame.DataFrame'>\n",
      "Index: 16094 entries, 2016-01-15 00:00:00 to 2018-08-18 10:59:59\n",
      "Data columns (total 86 columns):\n",
      " #   Column                                              Non-Null Count  Dtype  \n",
      "---  ------                                              --------------  -----  \n",
      " 0   final.output.concentrate_ag                         16094 non-null  float64\n",
      " 1   final.output.concentrate_pb                         16094 non-null  float64\n",
      " 2   final.output.concentrate_sol                        16094 non-null  float64\n",
      " 3   final.output.concentrate_au                         16094 non-null  float64\n",
      " 4   final.output.recovery                               16094 non-null  float64\n",
      " 5   final.output.tail_ag                                16094 non-null  float64\n",
      " 6   final.output.tail_pb                                16094 non-null  float64\n",
      " 7   final.output.tail_sol                               16094 non-null  float64\n",
      " 8   final.output.tail_au                                16094 non-null  float64\n",
      " 9   primary_cleaner.input.sulfate                       16094 non-null  float64\n",
      " 10  primary_cleaner.input.depressant                    16094 non-null  float64\n",
      " 11  primary_cleaner.input.feed_size                     16094 non-null  float64\n",
      " 12  primary_cleaner.input.xanthate                      16094 non-null  float64\n",
      " 13  primary_cleaner.output.concentrate_ag               16094 non-null  float64\n",
      " 14  primary_cleaner.output.concentrate_pb               16094 non-null  float64\n",
      " 15  primary_cleaner.output.concentrate_sol              16094 non-null  float64\n",
      " 16  primary_cleaner.output.concentrate_au               16094 non-null  float64\n",
      " 17  primary_cleaner.output.tail_ag                      16094 non-null  float64\n",
      " 18  primary_cleaner.output.tail_pb                      16094 non-null  float64\n",
      " 19  primary_cleaner.output.tail_sol                     16094 non-null  float64\n",
      " 20  primary_cleaner.output.tail_au                      16094 non-null  float64\n",
      " 21  primary_cleaner.state.floatbank8_a_air              16094 non-null  float64\n",
      " 22  primary_cleaner.state.floatbank8_a_level            16094 non-null  float64\n",
      " 23  primary_cleaner.state.floatbank8_b_air              16094 non-null  float64\n",
      " 24  primary_cleaner.state.floatbank8_b_level            16094 non-null  float64\n",
      " 25  primary_cleaner.state.floatbank8_c_air              16094 non-null  float64\n",
      " 26  primary_cleaner.state.floatbank8_c_level            16094 non-null  float64\n",
      " 27  primary_cleaner.state.floatbank8_d_air              16094 non-null  float64\n",
      " 28  primary_cleaner.state.floatbank8_d_level            16094 non-null  float64\n",
      " 29  rougher.calculation.sulfate_to_au_concentrate       16094 non-null  float64\n",
      " 30  rougher.calculation.floatbank10_sulfate_to_au_feed  16094 non-null  float64\n",
      " 31  rougher.calculation.floatbank11_sulfate_to_au_feed  16094 non-null  float64\n",
      " 32  rougher.calculation.au_pb_ratio                     16094 non-null  float64\n",
      " 33  rougher.input.feed_ag                               16094 non-null  float64\n",
      " 34  rougher.input.feed_pb                               16094 non-null  float64\n",
      " 35  rougher.input.feed_rate                             16094 non-null  float64\n",
      " 36  rougher.input.feed_size                             16094 non-null  float64\n",
      " 37  rougher.input.feed_sol                              16094 non-null  float64\n",
      " 38  rougher.input.feed_au                               16094 non-null  float64\n",
      " 39  rougher.input.floatbank10_sulfate                   16094 non-null  float64\n",
      " 40  rougher.input.floatbank10_xanthate                  16094 non-null  float64\n",
      " 41  rougher.input.floatbank11_sulfate                   16094 non-null  float64\n",
      " 42  rougher.input.floatbank11_xanthate                  16094 non-null  float64\n",
      " 43  rougher.output.concentrate_ag                       16094 non-null  float64\n",
      " 44  rougher.output.concentrate_pb                       16094 non-null  float64\n",
      " 45  rougher.output.concentrate_sol                      16094 non-null  float64\n",
      " 46  rougher.output.concentrate_au                       16094 non-null  float64\n",
      " 47  rougher.output.recovery                             16094 non-null  float64\n",
      " 48  rougher.output.tail_ag                              16094 non-null  float64\n",
      " 49  rougher.output.tail_pb                              16094 non-null  float64\n",
      " 50  rougher.output.tail_sol                             16094 non-null  float64\n",
      " 51  rougher.output.tail_au                              16094 non-null  float64\n",
      " 52  rougher.state.floatbank10_a_air                     16094 non-null  float64\n",
      " 53  rougher.state.floatbank10_a_level                   16094 non-null  float64\n",
      " 54  rougher.state.floatbank10_b_air                     16094 non-null  float64\n",
      " 55  rougher.state.floatbank10_b_level                   16094 non-null  float64\n",
      " 56  rougher.state.floatbank10_c_air                     16094 non-null  float64\n",
      " 57  rougher.state.floatbank10_c_level                   16094 non-null  float64\n",
      " 58  rougher.state.floatbank10_d_air                     16094 non-null  float64\n",
      " 59  rougher.state.floatbank10_d_level                   16094 non-null  float64\n",
      " 60  rougher.state.floatbank10_e_air                     16094 non-null  float64\n",
      " 61  rougher.state.floatbank10_e_level                   16094 non-null  float64\n",
      " 62  rougher.state.floatbank10_f_air                     16094 non-null  float64\n",
      " 63  rougher.state.floatbank10_f_level                   16094 non-null  float64\n",
      " 64  secondary_cleaner.output.tail_ag                    16094 non-null  float64\n",
      " 65  secondary_cleaner.output.tail_pb                    16094 non-null  float64\n",
      " 66  secondary_cleaner.output.tail_sol                   16094 non-null  float64\n",
      " 67  secondary_cleaner.output.tail_au                    16094 non-null  float64\n",
      " 68  secondary_cleaner.state.floatbank2_a_air            16094 non-null  float64\n",
      " 69  secondary_cleaner.state.floatbank2_a_level          16094 non-null  float64\n",
      " 70  secondary_cleaner.state.floatbank2_b_air            16094 non-null  float64\n",
      " 71  secondary_cleaner.state.floatbank2_b_level          16094 non-null  float64\n",
      " 72  secondary_cleaner.state.floatbank3_a_air            16094 non-null  float64\n",
      " 73  secondary_cleaner.state.floatbank3_a_level          16094 non-null  float64\n",
      " 74  secondary_cleaner.state.floatbank3_b_air            16094 non-null  float64\n",
      " 75  secondary_cleaner.state.floatbank3_b_level          16094 non-null  float64\n",
      " 76  secondary_cleaner.state.floatbank4_a_air            16094 non-null  float64\n",
      " 77  secondary_cleaner.state.floatbank4_a_level          16094 non-null  float64\n",
      " 78  secondary_cleaner.state.floatbank4_b_air            16094 non-null  float64\n",
      " 79  secondary_cleaner.state.floatbank4_b_level          16094 non-null  float64\n",
      " 80  secondary_cleaner.state.floatbank5_a_air            16094 non-null  float64\n",
      " 81  secondary_cleaner.state.floatbank5_a_level          16094 non-null  float64\n",
      " 82  secondary_cleaner.state.floatbank5_b_air            16094 non-null  float64\n",
      " 83  secondary_cleaner.state.floatbank5_b_level          16094 non-null  float64\n",
      " 84  secondary_cleaner.state.floatbank6_a_air            16094 non-null  float64\n",
      " 85  secondary_cleaner.state.floatbank6_a_level          16094 non-null  float64\n",
      "dtypes: float64(86)\n",
      "memory usage: 10.7+ MB\n"
     ]
    }
   ],
   "source": [
    "# Fetching information from columns of 'df_full'\n",
    "df_full.info()"
   ]
  },
  {
   "cell_type": "markdown",
   "metadata": {},
   "source": [
    "We can see that all columns have the same data types and this is a good sign."
   ]
  },
  {
   "cell_type": "markdown",
   "metadata": {},
   "source": [
    "#### Printing the first rows of Dataframes"
   ]
  },
  {
   "cell_type": "code",
   "execution_count": 24,
   "metadata": {
    "scrolled": false
   },
   "outputs": [
    {
     "data": {
      "text/html": [
       "<div>\n",
       "<style scoped>\n",
       "    .dataframe tbody tr th:only-of-type {\n",
       "        vertical-align: middle;\n",
       "    }\n",
       "\n",
       "    .dataframe tbody tr th {\n",
       "        vertical-align: top;\n",
       "    }\n",
       "\n",
       "    .dataframe thead th {\n",
       "        text-align: right;\n",
       "    }\n",
       "</style>\n",
       "<table border=\"1\" class=\"dataframe\">\n",
       "  <thead>\n",
       "    <tr style=\"text-align: right;\">\n",
       "      <th></th>\n",
       "      <th>final.output.concentrate_ag</th>\n",
       "      <th>final.output.concentrate_pb</th>\n",
       "      <th>final.output.concentrate_sol</th>\n",
       "      <th>final.output.concentrate_au</th>\n",
       "      <th>final.output.recovery</th>\n",
       "      <th>final.output.tail_ag</th>\n",
       "      <th>final.output.tail_pb</th>\n",
       "      <th>final.output.tail_sol</th>\n",
       "      <th>final.output.tail_au</th>\n",
       "      <th>primary_cleaner.input.sulfate</th>\n",
       "      <th>...</th>\n",
       "      <th>secondary_cleaner.state.floatbank4_a_air</th>\n",
       "      <th>secondary_cleaner.state.floatbank4_a_level</th>\n",
       "      <th>secondary_cleaner.state.floatbank4_b_air</th>\n",
       "      <th>secondary_cleaner.state.floatbank4_b_level</th>\n",
       "      <th>secondary_cleaner.state.floatbank5_a_air</th>\n",
       "      <th>secondary_cleaner.state.floatbank5_a_level</th>\n",
       "      <th>secondary_cleaner.state.floatbank5_b_air</th>\n",
       "      <th>secondary_cleaner.state.floatbank5_b_level</th>\n",
       "      <th>secondary_cleaner.state.floatbank6_a_air</th>\n",
       "      <th>secondary_cleaner.state.floatbank6_a_level</th>\n",
       "    </tr>\n",
       "    <tr>\n",
       "      <th>date</th>\n",
       "      <th></th>\n",
       "      <th></th>\n",
       "      <th></th>\n",
       "      <th></th>\n",
       "      <th></th>\n",
       "      <th></th>\n",
       "      <th></th>\n",
       "      <th></th>\n",
       "      <th></th>\n",
       "      <th></th>\n",
       "      <th></th>\n",
       "      <th></th>\n",
       "      <th></th>\n",
       "      <th></th>\n",
       "      <th></th>\n",
       "      <th></th>\n",
       "      <th></th>\n",
       "      <th></th>\n",
       "      <th></th>\n",
       "      <th></th>\n",
       "      <th></th>\n",
       "    </tr>\n",
       "  </thead>\n",
       "  <tbody>\n",
       "    <tr>\n",
       "      <th>2016-01-15 00:00:00</th>\n",
       "      <td>6.055403</td>\n",
       "      <td>9.889648</td>\n",
       "      <td>5.507324</td>\n",
       "      <td>42.192020</td>\n",
       "      <td>70.541216</td>\n",
       "      <td>10.411962</td>\n",
       "      <td>0.895447</td>\n",
       "      <td>16.904297</td>\n",
       "      <td>2.143149</td>\n",
       "      <td>127.092003</td>\n",
       "      <td>...</td>\n",
       "      <td>14.016835</td>\n",
       "      <td>-502.488007</td>\n",
       "      <td>12.099931</td>\n",
       "      <td>-504.715942</td>\n",
       "      <td>9.925633</td>\n",
       "      <td>-498.310211</td>\n",
       "      <td>8.079666</td>\n",
       "      <td>-500.470978</td>\n",
       "      <td>14.151341</td>\n",
       "      <td>-605.841980</td>\n",
       "    </tr>\n",
       "    <tr>\n",
       "      <th>2016-01-15 01:00:00</th>\n",
       "      <td>6.029369</td>\n",
       "      <td>9.968944</td>\n",
       "      <td>5.257781</td>\n",
       "      <td>42.701629</td>\n",
       "      <td>69.266198</td>\n",
       "      <td>10.462676</td>\n",
       "      <td>0.927452</td>\n",
       "      <td>16.634514</td>\n",
       "      <td>2.224930</td>\n",
       "      <td>125.629232</td>\n",
       "      <td>...</td>\n",
       "      <td>13.992281</td>\n",
       "      <td>-505.503262</td>\n",
       "      <td>11.950531</td>\n",
       "      <td>-501.331529</td>\n",
       "      <td>10.039245</td>\n",
       "      <td>-500.169983</td>\n",
       "      <td>7.984757</td>\n",
       "      <td>-500.582168</td>\n",
       "      <td>13.998353</td>\n",
       "      <td>-599.787184</td>\n",
       "    </tr>\n",
       "    <tr>\n",
       "      <th>2016-01-15 02:00:00</th>\n",
       "      <td>6.055926</td>\n",
       "      <td>10.213995</td>\n",
       "      <td>5.383759</td>\n",
       "      <td>42.657501</td>\n",
       "      <td>68.116445</td>\n",
       "      <td>10.507046</td>\n",
       "      <td>0.953716</td>\n",
       "      <td>16.208849</td>\n",
       "      <td>2.257889</td>\n",
       "      <td>123.819808</td>\n",
       "      <td>...</td>\n",
       "      <td>14.015015</td>\n",
       "      <td>-502.520901</td>\n",
       "      <td>11.912783</td>\n",
       "      <td>-501.133383</td>\n",
       "      <td>10.070913</td>\n",
       "      <td>-500.129135</td>\n",
       "      <td>8.013877</td>\n",
       "      <td>-500.517572</td>\n",
       "      <td>14.028663</td>\n",
       "      <td>-601.427363</td>\n",
       "    </tr>\n",
       "    <tr>\n",
       "      <th>2016-01-15 03:00:00</th>\n",
       "      <td>6.047977</td>\n",
       "      <td>9.977019</td>\n",
       "      <td>4.858634</td>\n",
       "      <td>42.689819</td>\n",
       "      <td>68.347543</td>\n",
       "      <td>10.422762</td>\n",
       "      <td>0.883763</td>\n",
       "      <td>16.532835</td>\n",
       "      <td>2.146849</td>\n",
       "      <td>122.270188</td>\n",
       "      <td>...</td>\n",
       "      <td>14.036510</td>\n",
       "      <td>-500.857308</td>\n",
       "      <td>11.999550</td>\n",
       "      <td>-501.193686</td>\n",
       "      <td>9.970366</td>\n",
       "      <td>-499.201640</td>\n",
       "      <td>7.977324</td>\n",
       "      <td>-500.255908</td>\n",
       "      <td>14.005551</td>\n",
       "      <td>-599.996129</td>\n",
       "    </tr>\n",
       "    <tr>\n",
       "      <th>2016-01-15 04:00:00</th>\n",
       "      <td>6.148599</td>\n",
       "      <td>10.142511</td>\n",
       "      <td>4.939416</td>\n",
       "      <td>42.774141</td>\n",
       "      <td>66.927016</td>\n",
       "      <td>10.360302</td>\n",
       "      <td>0.792826</td>\n",
       "      <td>16.525686</td>\n",
       "      <td>2.055292</td>\n",
       "      <td>117.988169</td>\n",
       "      <td>...</td>\n",
       "      <td>14.027298</td>\n",
       "      <td>-499.838632</td>\n",
       "      <td>11.953070</td>\n",
       "      <td>-501.053894</td>\n",
       "      <td>9.925709</td>\n",
       "      <td>-501.686727</td>\n",
       "      <td>7.894242</td>\n",
       "      <td>-500.356035</td>\n",
       "      <td>13.996647</td>\n",
       "      <td>-601.496691</td>\n",
       "    </tr>\n",
       "  </tbody>\n",
       "</table>\n",
       "<p>5 rows × 86 columns</p>\n",
       "</div>"
      ],
      "text/plain": [
       "                     final.output.concentrate_ag  final.output.concentrate_pb  \\\n",
       "date                                                                            \n",
       "2016-01-15 00:00:00                     6.055403                     9.889648   \n",
       "2016-01-15 01:00:00                     6.029369                     9.968944   \n",
       "2016-01-15 02:00:00                     6.055926                    10.213995   \n",
       "2016-01-15 03:00:00                     6.047977                     9.977019   \n",
       "2016-01-15 04:00:00                     6.148599                    10.142511   \n",
       "\n",
       "                     final.output.concentrate_sol  \\\n",
       "date                                                \n",
       "2016-01-15 00:00:00                      5.507324   \n",
       "2016-01-15 01:00:00                      5.257781   \n",
       "2016-01-15 02:00:00                      5.383759   \n",
       "2016-01-15 03:00:00                      4.858634   \n",
       "2016-01-15 04:00:00                      4.939416   \n",
       "\n",
       "                     final.output.concentrate_au  final.output.recovery  \\\n",
       "date                                                                      \n",
       "2016-01-15 00:00:00                    42.192020              70.541216   \n",
       "2016-01-15 01:00:00                    42.701629              69.266198   \n",
       "2016-01-15 02:00:00                    42.657501              68.116445   \n",
       "2016-01-15 03:00:00                    42.689819              68.347543   \n",
       "2016-01-15 04:00:00                    42.774141              66.927016   \n",
       "\n",
       "                     final.output.tail_ag  final.output.tail_pb  \\\n",
       "date                                                              \n",
       "2016-01-15 00:00:00             10.411962              0.895447   \n",
       "2016-01-15 01:00:00             10.462676              0.927452   \n",
       "2016-01-15 02:00:00             10.507046              0.953716   \n",
       "2016-01-15 03:00:00             10.422762              0.883763   \n",
       "2016-01-15 04:00:00             10.360302              0.792826   \n",
       "\n",
       "                     final.output.tail_sol  final.output.tail_au  \\\n",
       "date                                                               \n",
       "2016-01-15 00:00:00              16.904297              2.143149   \n",
       "2016-01-15 01:00:00              16.634514              2.224930   \n",
       "2016-01-15 02:00:00              16.208849              2.257889   \n",
       "2016-01-15 03:00:00              16.532835              2.146849   \n",
       "2016-01-15 04:00:00              16.525686              2.055292   \n",
       "\n",
       "                     primary_cleaner.input.sulfate  ...  \\\n",
       "date                                                ...   \n",
       "2016-01-15 00:00:00                     127.092003  ...   \n",
       "2016-01-15 01:00:00                     125.629232  ...   \n",
       "2016-01-15 02:00:00                     123.819808  ...   \n",
       "2016-01-15 03:00:00                     122.270188  ...   \n",
       "2016-01-15 04:00:00                     117.988169  ...   \n",
       "\n",
       "                     secondary_cleaner.state.floatbank4_a_air  \\\n",
       "date                                                            \n",
       "2016-01-15 00:00:00                                 14.016835   \n",
       "2016-01-15 01:00:00                                 13.992281   \n",
       "2016-01-15 02:00:00                                 14.015015   \n",
       "2016-01-15 03:00:00                                 14.036510   \n",
       "2016-01-15 04:00:00                                 14.027298   \n",
       "\n",
       "                     secondary_cleaner.state.floatbank4_a_level  \\\n",
       "date                                                              \n",
       "2016-01-15 00:00:00                                 -502.488007   \n",
       "2016-01-15 01:00:00                                 -505.503262   \n",
       "2016-01-15 02:00:00                                 -502.520901   \n",
       "2016-01-15 03:00:00                                 -500.857308   \n",
       "2016-01-15 04:00:00                                 -499.838632   \n",
       "\n",
       "                     secondary_cleaner.state.floatbank4_b_air  \\\n",
       "date                                                            \n",
       "2016-01-15 00:00:00                                 12.099931   \n",
       "2016-01-15 01:00:00                                 11.950531   \n",
       "2016-01-15 02:00:00                                 11.912783   \n",
       "2016-01-15 03:00:00                                 11.999550   \n",
       "2016-01-15 04:00:00                                 11.953070   \n",
       "\n",
       "                     secondary_cleaner.state.floatbank4_b_level  \\\n",
       "date                                                              \n",
       "2016-01-15 00:00:00                                 -504.715942   \n",
       "2016-01-15 01:00:00                                 -501.331529   \n",
       "2016-01-15 02:00:00                                 -501.133383   \n",
       "2016-01-15 03:00:00                                 -501.193686   \n",
       "2016-01-15 04:00:00                                 -501.053894   \n",
       "\n",
       "                     secondary_cleaner.state.floatbank5_a_air  \\\n",
       "date                                                            \n",
       "2016-01-15 00:00:00                                  9.925633   \n",
       "2016-01-15 01:00:00                                 10.039245   \n",
       "2016-01-15 02:00:00                                 10.070913   \n",
       "2016-01-15 03:00:00                                  9.970366   \n",
       "2016-01-15 04:00:00                                  9.925709   \n",
       "\n",
       "                     secondary_cleaner.state.floatbank5_a_level  \\\n",
       "date                                                              \n",
       "2016-01-15 00:00:00                                 -498.310211   \n",
       "2016-01-15 01:00:00                                 -500.169983   \n",
       "2016-01-15 02:00:00                                 -500.129135   \n",
       "2016-01-15 03:00:00                                 -499.201640   \n",
       "2016-01-15 04:00:00                                 -501.686727   \n",
       "\n",
       "                     secondary_cleaner.state.floatbank5_b_air  \\\n",
       "date                                                            \n",
       "2016-01-15 00:00:00                                  8.079666   \n",
       "2016-01-15 01:00:00                                  7.984757   \n",
       "2016-01-15 02:00:00                                  8.013877   \n",
       "2016-01-15 03:00:00                                  7.977324   \n",
       "2016-01-15 04:00:00                                  7.894242   \n",
       "\n",
       "                     secondary_cleaner.state.floatbank5_b_level  \\\n",
       "date                                                              \n",
       "2016-01-15 00:00:00                                 -500.470978   \n",
       "2016-01-15 01:00:00                                 -500.582168   \n",
       "2016-01-15 02:00:00                                 -500.517572   \n",
       "2016-01-15 03:00:00                                 -500.255908   \n",
       "2016-01-15 04:00:00                                 -500.356035   \n",
       "\n",
       "                     secondary_cleaner.state.floatbank6_a_air  \\\n",
       "date                                                            \n",
       "2016-01-15 00:00:00                                 14.151341   \n",
       "2016-01-15 01:00:00                                 13.998353   \n",
       "2016-01-15 02:00:00                                 14.028663   \n",
       "2016-01-15 03:00:00                                 14.005551   \n",
       "2016-01-15 04:00:00                                 13.996647   \n",
       "\n",
       "                     secondary_cleaner.state.floatbank6_a_level  \n",
       "date                                                             \n",
       "2016-01-15 00:00:00                                 -605.841980  \n",
       "2016-01-15 01:00:00                                 -599.787184  \n",
       "2016-01-15 02:00:00                                 -601.427363  \n",
       "2016-01-15 03:00:00                                 -599.996129  \n",
       "2016-01-15 04:00:00                                 -601.496691  \n",
       "\n",
       "[5 rows x 86 columns]"
      ]
     },
     "execution_count": 24,
     "metadata": {},
     "output_type": "execute_result"
    }
   ],
   "source": [
    "# Viewing the beginning of Dataframe 'df_train'\n",
    "df_train.head()"
   ]
  },
  {
   "cell_type": "code",
   "execution_count": 25,
   "metadata": {},
   "outputs": [
    {
     "data": {
      "text/html": [
       "<div>\n",
       "<style scoped>\n",
       "    .dataframe tbody tr th:only-of-type {\n",
       "        vertical-align: middle;\n",
       "    }\n",
       "\n",
       "    .dataframe tbody tr th {\n",
       "        vertical-align: top;\n",
       "    }\n",
       "\n",
       "    .dataframe thead th {\n",
       "        text-align: right;\n",
       "    }\n",
       "</style>\n",
       "<table border=\"1\" class=\"dataframe\">\n",
       "  <thead>\n",
       "    <tr style=\"text-align: right;\">\n",
       "      <th></th>\n",
       "      <th>primary_cleaner.input.sulfate</th>\n",
       "      <th>primary_cleaner.input.depressant</th>\n",
       "      <th>primary_cleaner.input.feed_size</th>\n",
       "      <th>primary_cleaner.input.xanthate</th>\n",
       "      <th>primary_cleaner.state.floatbank8_a_air</th>\n",
       "      <th>primary_cleaner.state.floatbank8_a_level</th>\n",
       "      <th>primary_cleaner.state.floatbank8_b_air</th>\n",
       "      <th>primary_cleaner.state.floatbank8_b_level</th>\n",
       "      <th>primary_cleaner.state.floatbank8_c_air</th>\n",
       "      <th>primary_cleaner.state.floatbank8_c_level</th>\n",
       "      <th>...</th>\n",
       "      <th>secondary_cleaner.state.floatbank4_a_air</th>\n",
       "      <th>secondary_cleaner.state.floatbank4_a_level</th>\n",
       "      <th>secondary_cleaner.state.floatbank4_b_air</th>\n",
       "      <th>secondary_cleaner.state.floatbank4_b_level</th>\n",
       "      <th>secondary_cleaner.state.floatbank5_a_air</th>\n",
       "      <th>secondary_cleaner.state.floatbank5_a_level</th>\n",
       "      <th>secondary_cleaner.state.floatbank5_b_air</th>\n",
       "      <th>secondary_cleaner.state.floatbank5_b_level</th>\n",
       "      <th>secondary_cleaner.state.floatbank6_a_air</th>\n",
       "      <th>secondary_cleaner.state.floatbank6_a_level</th>\n",
       "    </tr>\n",
       "    <tr>\n",
       "      <th>date</th>\n",
       "      <th></th>\n",
       "      <th></th>\n",
       "      <th></th>\n",
       "      <th></th>\n",
       "      <th></th>\n",
       "      <th></th>\n",
       "      <th></th>\n",
       "      <th></th>\n",
       "      <th></th>\n",
       "      <th></th>\n",
       "      <th></th>\n",
       "      <th></th>\n",
       "      <th></th>\n",
       "      <th></th>\n",
       "      <th></th>\n",
       "      <th></th>\n",
       "      <th></th>\n",
       "      <th></th>\n",
       "      <th></th>\n",
       "      <th></th>\n",
       "      <th></th>\n",
       "    </tr>\n",
       "  </thead>\n",
       "  <tbody>\n",
       "    <tr>\n",
       "      <th>2016-09-01 00:59:59</th>\n",
       "      <td>210.800909</td>\n",
       "      <td>14.993118</td>\n",
       "      <td>8.080000</td>\n",
       "      <td>1.005021</td>\n",
       "      <td>1398.981301</td>\n",
       "      <td>-500.225577</td>\n",
       "      <td>1399.144926</td>\n",
       "      <td>-499.919735</td>\n",
       "      <td>1400.102998</td>\n",
       "      <td>-500.704369</td>\n",
       "      <td>...</td>\n",
       "      <td>12.023554</td>\n",
       "      <td>-497.795834</td>\n",
       "      <td>8.016656</td>\n",
       "      <td>-501.289139</td>\n",
       "      <td>7.946562</td>\n",
       "      <td>-432.317850</td>\n",
       "      <td>4.872511</td>\n",
       "      <td>-500.037437</td>\n",
       "      <td>26.705889</td>\n",
       "      <td>-499.709414</td>\n",
       "    </tr>\n",
       "    <tr>\n",
       "      <th>2016-09-01 01:59:59</th>\n",
       "      <td>215.392455</td>\n",
       "      <td>14.987471</td>\n",
       "      <td>8.080000</td>\n",
       "      <td>0.990469</td>\n",
       "      <td>1398.777912</td>\n",
       "      <td>-500.057435</td>\n",
       "      <td>1398.055362</td>\n",
       "      <td>-499.778182</td>\n",
       "      <td>1396.151033</td>\n",
       "      <td>-499.240168</td>\n",
       "      <td>...</td>\n",
       "      <td>12.058140</td>\n",
       "      <td>-498.695773</td>\n",
       "      <td>8.130979</td>\n",
       "      <td>-499.634209</td>\n",
       "      <td>7.958270</td>\n",
       "      <td>-525.839648</td>\n",
       "      <td>4.878850</td>\n",
       "      <td>-500.162375</td>\n",
       "      <td>25.019940</td>\n",
       "      <td>-499.819438</td>\n",
       "    </tr>\n",
       "    <tr>\n",
       "      <th>2016-09-01 02:59:59</th>\n",
       "      <td>215.259946</td>\n",
       "      <td>12.884934</td>\n",
       "      <td>7.786667</td>\n",
       "      <td>0.996043</td>\n",
       "      <td>1398.493666</td>\n",
       "      <td>-500.868360</td>\n",
       "      <td>1398.860436</td>\n",
       "      <td>-499.764529</td>\n",
       "      <td>1398.075709</td>\n",
       "      <td>-502.151509</td>\n",
       "      <td>...</td>\n",
       "      <td>11.962366</td>\n",
       "      <td>-498.767484</td>\n",
       "      <td>8.096893</td>\n",
       "      <td>-500.827423</td>\n",
       "      <td>8.071056</td>\n",
       "      <td>-500.801673</td>\n",
       "      <td>4.905125</td>\n",
       "      <td>-499.828510</td>\n",
       "      <td>24.994862</td>\n",
       "      <td>-500.622559</td>\n",
       "    </tr>\n",
       "    <tr>\n",
       "      <th>2016-09-01 03:59:59</th>\n",
       "      <td>215.336236</td>\n",
       "      <td>12.006805</td>\n",
       "      <td>7.640000</td>\n",
       "      <td>0.863514</td>\n",
       "      <td>1399.618111</td>\n",
       "      <td>-498.863574</td>\n",
       "      <td>1397.440120</td>\n",
       "      <td>-499.211024</td>\n",
       "      <td>1400.129303</td>\n",
       "      <td>-498.355873</td>\n",
       "      <td>...</td>\n",
       "      <td>12.033091</td>\n",
       "      <td>-498.350935</td>\n",
       "      <td>8.074946</td>\n",
       "      <td>-499.474407</td>\n",
       "      <td>7.897085</td>\n",
       "      <td>-500.868509</td>\n",
       "      <td>4.931400</td>\n",
       "      <td>-499.963623</td>\n",
       "      <td>24.948919</td>\n",
       "      <td>-498.709987</td>\n",
       "    </tr>\n",
       "    <tr>\n",
       "      <th>2016-09-01 04:59:59</th>\n",
       "      <td>199.099327</td>\n",
       "      <td>10.682530</td>\n",
       "      <td>7.530000</td>\n",
       "      <td>0.805575</td>\n",
       "      <td>1401.268123</td>\n",
       "      <td>-500.808305</td>\n",
       "      <td>1398.128818</td>\n",
       "      <td>-499.504543</td>\n",
       "      <td>1402.172226</td>\n",
       "      <td>-500.810606</td>\n",
       "      <td>...</td>\n",
       "      <td>12.025367</td>\n",
       "      <td>-500.786497</td>\n",
       "      <td>8.054678</td>\n",
       "      <td>-500.397500</td>\n",
       "      <td>8.107890</td>\n",
       "      <td>-509.526725</td>\n",
       "      <td>4.957674</td>\n",
       "      <td>-500.360026</td>\n",
       "      <td>25.003331</td>\n",
       "      <td>-500.856333</td>\n",
       "    </tr>\n",
       "  </tbody>\n",
       "</table>\n",
       "<p>5 rows × 52 columns</p>\n",
       "</div>"
      ],
      "text/plain": [
       "                     primary_cleaner.input.sulfate  \\\n",
       "date                                                 \n",
       "2016-09-01 00:59:59                     210.800909   \n",
       "2016-09-01 01:59:59                     215.392455   \n",
       "2016-09-01 02:59:59                     215.259946   \n",
       "2016-09-01 03:59:59                     215.336236   \n",
       "2016-09-01 04:59:59                     199.099327   \n",
       "\n",
       "                     primary_cleaner.input.depressant  \\\n",
       "date                                                    \n",
       "2016-09-01 00:59:59                         14.993118   \n",
       "2016-09-01 01:59:59                         14.987471   \n",
       "2016-09-01 02:59:59                         12.884934   \n",
       "2016-09-01 03:59:59                         12.006805   \n",
       "2016-09-01 04:59:59                         10.682530   \n",
       "\n",
       "                     primary_cleaner.input.feed_size  \\\n",
       "date                                                   \n",
       "2016-09-01 00:59:59                         8.080000   \n",
       "2016-09-01 01:59:59                         8.080000   \n",
       "2016-09-01 02:59:59                         7.786667   \n",
       "2016-09-01 03:59:59                         7.640000   \n",
       "2016-09-01 04:59:59                         7.530000   \n",
       "\n",
       "                     primary_cleaner.input.xanthate  \\\n",
       "date                                                  \n",
       "2016-09-01 00:59:59                        1.005021   \n",
       "2016-09-01 01:59:59                        0.990469   \n",
       "2016-09-01 02:59:59                        0.996043   \n",
       "2016-09-01 03:59:59                        0.863514   \n",
       "2016-09-01 04:59:59                        0.805575   \n",
       "\n",
       "                     primary_cleaner.state.floatbank8_a_air  \\\n",
       "date                                                          \n",
       "2016-09-01 00:59:59                             1398.981301   \n",
       "2016-09-01 01:59:59                             1398.777912   \n",
       "2016-09-01 02:59:59                             1398.493666   \n",
       "2016-09-01 03:59:59                             1399.618111   \n",
       "2016-09-01 04:59:59                             1401.268123   \n",
       "\n",
       "                     primary_cleaner.state.floatbank8_a_level  \\\n",
       "date                                                            \n",
       "2016-09-01 00:59:59                               -500.225577   \n",
       "2016-09-01 01:59:59                               -500.057435   \n",
       "2016-09-01 02:59:59                               -500.868360   \n",
       "2016-09-01 03:59:59                               -498.863574   \n",
       "2016-09-01 04:59:59                               -500.808305   \n",
       "\n",
       "                     primary_cleaner.state.floatbank8_b_air  \\\n",
       "date                                                          \n",
       "2016-09-01 00:59:59                             1399.144926   \n",
       "2016-09-01 01:59:59                             1398.055362   \n",
       "2016-09-01 02:59:59                             1398.860436   \n",
       "2016-09-01 03:59:59                             1397.440120   \n",
       "2016-09-01 04:59:59                             1398.128818   \n",
       "\n",
       "                     primary_cleaner.state.floatbank8_b_level  \\\n",
       "date                                                            \n",
       "2016-09-01 00:59:59                               -499.919735   \n",
       "2016-09-01 01:59:59                               -499.778182   \n",
       "2016-09-01 02:59:59                               -499.764529   \n",
       "2016-09-01 03:59:59                               -499.211024   \n",
       "2016-09-01 04:59:59                               -499.504543   \n",
       "\n",
       "                     primary_cleaner.state.floatbank8_c_air  \\\n",
       "date                                                          \n",
       "2016-09-01 00:59:59                             1400.102998   \n",
       "2016-09-01 01:59:59                             1396.151033   \n",
       "2016-09-01 02:59:59                             1398.075709   \n",
       "2016-09-01 03:59:59                             1400.129303   \n",
       "2016-09-01 04:59:59                             1402.172226   \n",
       "\n",
       "                     primary_cleaner.state.floatbank8_c_level  ...  \\\n",
       "date                                                           ...   \n",
       "2016-09-01 00:59:59                               -500.704369  ...   \n",
       "2016-09-01 01:59:59                               -499.240168  ...   \n",
       "2016-09-01 02:59:59                               -502.151509  ...   \n",
       "2016-09-01 03:59:59                               -498.355873  ...   \n",
       "2016-09-01 04:59:59                               -500.810606  ...   \n",
       "\n",
       "                     secondary_cleaner.state.floatbank4_a_air  \\\n",
       "date                                                            \n",
       "2016-09-01 00:59:59                                 12.023554   \n",
       "2016-09-01 01:59:59                                 12.058140   \n",
       "2016-09-01 02:59:59                                 11.962366   \n",
       "2016-09-01 03:59:59                                 12.033091   \n",
       "2016-09-01 04:59:59                                 12.025367   \n",
       "\n",
       "                     secondary_cleaner.state.floatbank4_a_level  \\\n",
       "date                                                              \n",
       "2016-09-01 00:59:59                                 -497.795834   \n",
       "2016-09-01 01:59:59                                 -498.695773   \n",
       "2016-09-01 02:59:59                                 -498.767484   \n",
       "2016-09-01 03:59:59                                 -498.350935   \n",
       "2016-09-01 04:59:59                                 -500.786497   \n",
       "\n",
       "                     secondary_cleaner.state.floatbank4_b_air  \\\n",
       "date                                                            \n",
       "2016-09-01 00:59:59                                  8.016656   \n",
       "2016-09-01 01:59:59                                  8.130979   \n",
       "2016-09-01 02:59:59                                  8.096893   \n",
       "2016-09-01 03:59:59                                  8.074946   \n",
       "2016-09-01 04:59:59                                  8.054678   \n",
       "\n",
       "                     secondary_cleaner.state.floatbank4_b_level  \\\n",
       "date                                                              \n",
       "2016-09-01 00:59:59                                 -501.289139   \n",
       "2016-09-01 01:59:59                                 -499.634209   \n",
       "2016-09-01 02:59:59                                 -500.827423   \n",
       "2016-09-01 03:59:59                                 -499.474407   \n",
       "2016-09-01 04:59:59                                 -500.397500   \n",
       "\n",
       "                     secondary_cleaner.state.floatbank5_a_air  \\\n",
       "date                                                            \n",
       "2016-09-01 00:59:59                                  7.946562   \n",
       "2016-09-01 01:59:59                                  7.958270   \n",
       "2016-09-01 02:59:59                                  8.071056   \n",
       "2016-09-01 03:59:59                                  7.897085   \n",
       "2016-09-01 04:59:59                                  8.107890   \n",
       "\n",
       "                     secondary_cleaner.state.floatbank5_a_level  \\\n",
       "date                                                              \n",
       "2016-09-01 00:59:59                                 -432.317850   \n",
       "2016-09-01 01:59:59                                 -525.839648   \n",
       "2016-09-01 02:59:59                                 -500.801673   \n",
       "2016-09-01 03:59:59                                 -500.868509   \n",
       "2016-09-01 04:59:59                                 -509.526725   \n",
       "\n",
       "                     secondary_cleaner.state.floatbank5_b_air  \\\n",
       "date                                                            \n",
       "2016-09-01 00:59:59                                  4.872511   \n",
       "2016-09-01 01:59:59                                  4.878850   \n",
       "2016-09-01 02:59:59                                  4.905125   \n",
       "2016-09-01 03:59:59                                  4.931400   \n",
       "2016-09-01 04:59:59                                  4.957674   \n",
       "\n",
       "                     secondary_cleaner.state.floatbank5_b_level  \\\n",
       "date                                                              \n",
       "2016-09-01 00:59:59                                 -500.037437   \n",
       "2016-09-01 01:59:59                                 -500.162375   \n",
       "2016-09-01 02:59:59                                 -499.828510   \n",
       "2016-09-01 03:59:59                                 -499.963623   \n",
       "2016-09-01 04:59:59                                 -500.360026   \n",
       "\n",
       "                     secondary_cleaner.state.floatbank6_a_air  \\\n",
       "date                                                            \n",
       "2016-09-01 00:59:59                                 26.705889   \n",
       "2016-09-01 01:59:59                                 25.019940   \n",
       "2016-09-01 02:59:59                                 24.994862   \n",
       "2016-09-01 03:59:59                                 24.948919   \n",
       "2016-09-01 04:59:59                                 25.003331   \n",
       "\n",
       "                     secondary_cleaner.state.floatbank6_a_level  \n",
       "date                                                             \n",
       "2016-09-01 00:59:59                                 -499.709414  \n",
       "2016-09-01 01:59:59                                 -499.819438  \n",
       "2016-09-01 02:59:59                                 -500.622559  \n",
       "2016-09-01 03:59:59                                 -498.709987  \n",
       "2016-09-01 04:59:59                                 -500.856333  \n",
       "\n",
       "[5 rows x 52 columns]"
      ]
     },
     "execution_count": 25,
     "metadata": {},
     "output_type": "execute_result"
    }
   ],
   "source": [
    "# Viewing the beginning of Dataframe 'df_test'\n",
    "df_test.head()"
   ]
  },
  {
   "cell_type": "code",
   "execution_count": 26,
   "metadata": {},
   "outputs": [
    {
     "data": {
      "text/html": [
       "<div>\n",
       "<style scoped>\n",
       "    .dataframe tbody tr th:only-of-type {\n",
       "        vertical-align: middle;\n",
       "    }\n",
       "\n",
       "    .dataframe tbody tr th {\n",
       "        vertical-align: top;\n",
       "    }\n",
       "\n",
       "    .dataframe thead th {\n",
       "        text-align: right;\n",
       "    }\n",
       "</style>\n",
       "<table border=\"1\" class=\"dataframe\">\n",
       "  <thead>\n",
       "    <tr style=\"text-align: right;\">\n",
       "      <th></th>\n",
       "      <th>final.output.concentrate_ag</th>\n",
       "      <th>final.output.concentrate_pb</th>\n",
       "      <th>final.output.concentrate_sol</th>\n",
       "      <th>final.output.concentrate_au</th>\n",
       "      <th>final.output.recovery</th>\n",
       "      <th>final.output.tail_ag</th>\n",
       "      <th>final.output.tail_pb</th>\n",
       "      <th>final.output.tail_sol</th>\n",
       "      <th>final.output.tail_au</th>\n",
       "      <th>primary_cleaner.input.sulfate</th>\n",
       "      <th>...</th>\n",
       "      <th>secondary_cleaner.state.floatbank4_a_air</th>\n",
       "      <th>secondary_cleaner.state.floatbank4_a_level</th>\n",
       "      <th>secondary_cleaner.state.floatbank4_b_air</th>\n",
       "      <th>secondary_cleaner.state.floatbank4_b_level</th>\n",
       "      <th>secondary_cleaner.state.floatbank5_a_air</th>\n",
       "      <th>secondary_cleaner.state.floatbank5_a_level</th>\n",
       "      <th>secondary_cleaner.state.floatbank5_b_air</th>\n",
       "      <th>secondary_cleaner.state.floatbank5_b_level</th>\n",
       "      <th>secondary_cleaner.state.floatbank6_a_air</th>\n",
       "      <th>secondary_cleaner.state.floatbank6_a_level</th>\n",
       "    </tr>\n",
       "    <tr>\n",
       "      <th>date</th>\n",
       "      <th></th>\n",
       "      <th></th>\n",
       "      <th></th>\n",
       "      <th></th>\n",
       "      <th></th>\n",
       "      <th></th>\n",
       "      <th></th>\n",
       "      <th></th>\n",
       "      <th></th>\n",
       "      <th></th>\n",
       "      <th></th>\n",
       "      <th></th>\n",
       "      <th></th>\n",
       "      <th></th>\n",
       "      <th></th>\n",
       "      <th></th>\n",
       "      <th></th>\n",
       "      <th></th>\n",
       "      <th></th>\n",
       "      <th></th>\n",
       "      <th></th>\n",
       "    </tr>\n",
       "  </thead>\n",
       "  <tbody>\n",
       "    <tr>\n",
       "      <th>2016-01-15 00:00:00</th>\n",
       "      <td>6.055403</td>\n",
       "      <td>9.889648</td>\n",
       "      <td>5.507324</td>\n",
       "      <td>42.192020</td>\n",
       "      <td>70.541216</td>\n",
       "      <td>10.411962</td>\n",
       "      <td>0.895447</td>\n",
       "      <td>16.904297</td>\n",
       "      <td>2.143149</td>\n",
       "      <td>127.092003</td>\n",
       "      <td>...</td>\n",
       "      <td>14.016835</td>\n",
       "      <td>-502.488007</td>\n",
       "      <td>12.099931</td>\n",
       "      <td>-504.715942</td>\n",
       "      <td>9.925633</td>\n",
       "      <td>-498.310211</td>\n",
       "      <td>8.079666</td>\n",
       "      <td>-500.470978</td>\n",
       "      <td>14.151341</td>\n",
       "      <td>-605.841980</td>\n",
       "    </tr>\n",
       "    <tr>\n",
       "      <th>2016-01-15 01:00:00</th>\n",
       "      <td>6.029369</td>\n",
       "      <td>9.968944</td>\n",
       "      <td>5.257781</td>\n",
       "      <td>42.701629</td>\n",
       "      <td>69.266198</td>\n",
       "      <td>10.462676</td>\n",
       "      <td>0.927452</td>\n",
       "      <td>16.634514</td>\n",
       "      <td>2.224930</td>\n",
       "      <td>125.629232</td>\n",
       "      <td>...</td>\n",
       "      <td>13.992281</td>\n",
       "      <td>-505.503262</td>\n",
       "      <td>11.950531</td>\n",
       "      <td>-501.331529</td>\n",
       "      <td>10.039245</td>\n",
       "      <td>-500.169983</td>\n",
       "      <td>7.984757</td>\n",
       "      <td>-500.582168</td>\n",
       "      <td>13.998353</td>\n",
       "      <td>-599.787184</td>\n",
       "    </tr>\n",
       "    <tr>\n",
       "      <th>2016-01-15 02:00:00</th>\n",
       "      <td>6.055926</td>\n",
       "      <td>10.213995</td>\n",
       "      <td>5.383759</td>\n",
       "      <td>42.657501</td>\n",
       "      <td>68.116445</td>\n",
       "      <td>10.507046</td>\n",
       "      <td>0.953716</td>\n",
       "      <td>16.208849</td>\n",
       "      <td>2.257889</td>\n",
       "      <td>123.819808</td>\n",
       "      <td>...</td>\n",
       "      <td>14.015015</td>\n",
       "      <td>-502.520901</td>\n",
       "      <td>11.912783</td>\n",
       "      <td>-501.133383</td>\n",
       "      <td>10.070913</td>\n",
       "      <td>-500.129135</td>\n",
       "      <td>8.013877</td>\n",
       "      <td>-500.517572</td>\n",
       "      <td>14.028663</td>\n",
       "      <td>-601.427363</td>\n",
       "    </tr>\n",
       "    <tr>\n",
       "      <th>2016-01-15 03:00:00</th>\n",
       "      <td>6.047977</td>\n",
       "      <td>9.977019</td>\n",
       "      <td>4.858634</td>\n",
       "      <td>42.689819</td>\n",
       "      <td>68.347543</td>\n",
       "      <td>10.422762</td>\n",
       "      <td>0.883763</td>\n",
       "      <td>16.532835</td>\n",
       "      <td>2.146849</td>\n",
       "      <td>122.270188</td>\n",
       "      <td>...</td>\n",
       "      <td>14.036510</td>\n",
       "      <td>-500.857308</td>\n",
       "      <td>11.999550</td>\n",
       "      <td>-501.193686</td>\n",
       "      <td>9.970366</td>\n",
       "      <td>-499.201640</td>\n",
       "      <td>7.977324</td>\n",
       "      <td>-500.255908</td>\n",
       "      <td>14.005551</td>\n",
       "      <td>-599.996129</td>\n",
       "    </tr>\n",
       "    <tr>\n",
       "      <th>2016-01-15 04:00:00</th>\n",
       "      <td>6.148599</td>\n",
       "      <td>10.142511</td>\n",
       "      <td>4.939416</td>\n",
       "      <td>42.774141</td>\n",
       "      <td>66.927016</td>\n",
       "      <td>10.360302</td>\n",
       "      <td>0.792826</td>\n",
       "      <td>16.525686</td>\n",
       "      <td>2.055292</td>\n",
       "      <td>117.988169</td>\n",
       "      <td>...</td>\n",
       "      <td>14.027298</td>\n",
       "      <td>-499.838632</td>\n",
       "      <td>11.953070</td>\n",
       "      <td>-501.053894</td>\n",
       "      <td>9.925709</td>\n",
       "      <td>-501.686727</td>\n",
       "      <td>7.894242</td>\n",
       "      <td>-500.356035</td>\n",
       "      <td>13.996647</td>\n",
       "      <td>-601.496691</td>\n",
       "    </tr>\n",
       "  </tbody>\n",
       "</table>\n",
       "<p>5 rows × 86 columns</p>\n",
       "</div>"
      ],
      "text/plain": [
       "                     final.output.concentrate_ag  final.output.concentrate_pb  \\\n",
       "date                                                                            \n",
       "2016-01-15 00:00:00                     6.055403                     9.889648   \n",
       "2016-01-15 01:00:00                     6.029369                     9.968944   \n",
       "2016-01-15 02:00:00                     6.055926                    10.213995   \n",
       "2016-01-15 03:00:00                     6.047977                     9.977019   \n",
       "2016-01-15 04:00:00                     6.148599                    10.142511   \n",
       "\n",
       "                     final.output.concentrate_sol  \\\n",
       "date                                                \n",
       "2016-01-15 00:00:00                      5.507324   \n",
       "2016-01-15 01:00:00                      5.257781   \n",
       "2016-01-15 02:00:00                      5.383759   \n",
       "2016-01-15 03:00:00                      4.858634   \n",
       "2016-01-15 04:00:00                      4.939416   \n",
       "\n",
       "                     final.output.concentrate_au  final.output.recovery  \\\n",
       "date                                                                      \n",
       "2016-01-15 00:00:00                    42.192020              70.541216   \n",
       "2016-01-15 01:00:00                    42.701629              69.266198   \n",
       "2016-01-15 02:00:00                    42.657501              68.116445   \n",
       "2016-01-15 03:00:00                    42.689819              68.347543   \n",
       "2016-01-15 04:00:00                    42.774141              66.927016   \n",
       "\n",
       "                     final.output.tail_ag  final.output.tail_pb  \\\n",
       "date                                                              \n",
       "2016-01-15 00:00:00             10.411962              0.895447   \n",
       "2016-01-15 01:00:00             10.462676              0.927452   \n",
       "2016-01-15 02:00:00             10.507046              0.953716   \n",
       "2016-01-15 03:00:00             10.422762              0.883763   \n",
       "2016-01-15 04:00:00             10.360302              0.792826   \n",
       "\n",
       "                     final.output.tail_sol  final.output.tail_au  \\\n",
       "date                                                               \n",
       "2016-01-15 00:00:00              16.904297              2.143149   \n",
       "2016-01-15 01:00:00              16.634514              2.224930   \n",
       "2016-01-15 02:00:00              16.208849              2.257889   \n",
       "2016-01-15 03:00:00              16.532835              2.146849   \n",
       "2016-01-15 04:00:00              16.525686              2.055292   \n",
       "\n",
       "                     primary_cleaner.input.sulfate  ...  \\\n",
       "date                                                ...   \n",
       "2016-01-15 00:00:00                     127.092003  ...   \n",
       "2016-01-15 01:00:00                     125.629232  ...   \n",
       "2016-01-15 02:00:00                     123.819808  ...   \n",
       "2016-01-15 03:00:00                     122.270188  ...   \n",
       "2016-01-15 04:00:00                     117.988169  ...   \n",
       "\n",
       "                     secondary_cleaner.state.floatbank4_a_air  \\\n",
       "date                                                            \n",
       "2016-01-15 00:00:00                                 14.016835   \n",
       "2016-01-15 01:00:00                                 13.992281   \n",
       "2016-01-15 02:00:00                                 14.015015   \n",
       "2016-01-15 03:00:00                                 14.036510   \n",
       "2016-01-15 04:00:00                                 14.027298   \n",
       "\n",
       "                     secondary_cleaner.state.floatbank4_a_level  \\\n",
       "date                                                              \n",
       "2016-01-15 00:00:00                                 -502.488007   \n",
       "2016-01-15 01:00:00                                 -505.503262   \n",
       "2016-01-15 02:00:00                                 -502.520901   \n",
       "2016-01-15 03:00:00                                 -500.857308   \n",
       "2016-01-15 04:00:00                                 -499.838632   \n",
       "\n",
       "                     secondary_cleaner.state.floatbank4_b_air  \\\n",
       "date                                                            \n",
       "2016-01-15 00:00:00                                 12.099931   \n",
       "2016-01-15 01:00:00                                 11.950531   \n",
       "2016-01-15 02:00:00                                 11.912783   \n",
       "2016-01-15 03:00:00                                 11.999550   \n",
       "2016-01-15 04:00:00                                 11.953070   \n",
       "\n",
       "                     secondary_cleaner.state.floatbank4_b_level  \\\n",
       "date                                                              \n",
       "2016-01-15 00:00:00                                 -504.715942   \n",
       "2016-01-15 01:00:00                                 -501.331529   \n",
       "2016-01-15 02:00:00                                 -501.133383   \n",
       "2016-01-15 03:00:00                                 -501.193686   \n",
       "2016-01-15 04:00:00                                 -501.053894   \n",
       "\n",
       "                     secondary_cleaner.state.floatbank5_a_air  \\\n",
       "date                                                            \n",
       "2016-01-15 00:00:00                                  9.925633   \n",
       "2016-01-15 01:00:00                                 10.039245   \n",
       "2016-01-15 02:00:00                                 10.070913   \n",
       "2016-01-15 03:00:00                                  9.970366   \n",
       "2016-01-15 04:00:00                                  9.925709   \n",
       "\n",
       "                     secondary_cleaner.state.floatbank5_a_level  \\\n",
       "date                                                              \n",
       "2016-01-15 00:00:00                                 -498.310211   \n",
       "2016-01-15 01:00:00                                 -500.169983   \n",
       "2016-01-15 02:00:00                                 -500.129135   \n",
       "2016-01-15 03:00:00                                 -499.201640   \n",
       "2016-01-15 04:00:00                                 -501.686727   \n",
       "\n",
       "                     secondary_cleaner.state.floatbank5_b_air  \\\n",
       "date                                                            \n",
       "2016-01-15 00:00:00                                  8.079666   \n",
       "2016-01-15 01:00:00                                  7.984757   \n",
       "2016-01-15 02:00:00                                  8.013877   \n",
       "2016-01-15 03:00:00                                  7.977324   \n",
       "2016-01-15 04:00:00                                  7.894242   \n",
       "\n",
       "                     secondary_cleaner.state.floatbank5_b_level  \\\n",
       "date                                                              \n",
       "2016-01-15 00:00:00                                 -500.470978   \n",
       "2016-01-15 01:00:00                                 -500.582168   \n",
       "2016-01-15 02:00:00                                 -500.517572   \n",
       "2016-01-15 03:00:00                                 -500.255908   \n",
       "2016-01-15 04:00:00                                 -500.356035   \n",
       "\n",
       "                     secondary_cleaner.state.floatbank6_a_air  \\\n",
       "date                                                            \n",
       "2016-01-15 00:00:00                                 14.151341   \n",
       "2016-01-15 01:00:00                                 13.998353   \n",
       "2016-01-15 02:00:00                                 14.028663   \n",
       "2016-01-15 03:00:00                                 14.005551   \n",
       "2016-01-15 04:00:00                                 13.996647   \n",
       "\n",
       "                     secondary_cleaner.state.floatbank6_a_level  \n",
       "date                                                             \n",
       "2016-01-15 00:00:00                                 -605.841980  \n",
       "2016-01-15 01:00:00                                 -599.787184  \n",
       "2016-01-15 02:00:00                                 -601.427363  \n",
       "2016-01-15 03:00:00                                 -599.996129  \n",
       "2016-01-15 04:00:00                                 -601.496691  \n",
       "\n",
       "[5 rows x 86 columns]"
      ]
     },
     "execution_count": 26,
     "metadata": {},
     "output_type": "execute_result"
    }
   ],
   "source": [
    "# Viewing the beginning of Dataframe 'df_full'\n",
    "df_full.head()"
   ]
  },
  {
   "cell_type": "markdown",
   "metadata": {},
   "source": [
    "### In-depth data analysis"
   ]
  },
  {
   "cell_type": "markdown",
   "metadata": {},
   "source": [
    "#### Visualization of metal concentrations"
   ]
  },
  {
   "cell_type": "markdown",
   "metadata": {},
   "source": [
    "In this section, a visual analysis of gold, silver and lead concentrations at different purification stages will help us gain a deeper understanding of the data.\n",
    "\n",
    "Possible values for `stage`:\n",
    "\n",
    "**rougher** — (Crude ore) flotation\n",
    "\n",
    "**primary_cleaner** — primary cleaning\n",
    "\n",
    "**secondary_cleaner** — secondary cleaning\n",
    "\n",
    "**final** — final characteristics"
   ]
  },
  {
   "cell_type": "markdown",
   "metadata": {},
   "source": [
    "Let's define a regular expression to find the columns that end with \"au\", \"ag\" or \"pb\" and contain the word \"concentrate\". We will then filter the DataFrame columns that match this regular expression, generating separate lists for the concentrated gold, silver, and lead columns at each stage of purification. We'll sort these lists to print the stages in the correct order."
   ]
  },
  {
   "cell_type": "code",
   "execution_count": 27,
   "metadata": {},
   "outputs": [],
   "source": [
    "# Regular expression to find columns that end with \"au\", \"ag\" or \"pb\" and contain the word \"concentrate\"\n",
    "regex = re.compile('.*concentrate_(au|ag|pb)$')\n",
    "\n",
    "# Filtering DataFrame columns that match the regular expression\n",
    "filtered_cols = df_full.filter(regex=regex)\n",
    "\n",
    "# List of columns ending with \"au\"\n",
    "au_cols = [col for col in filtered_cols.columns if col.endswith('au')]\n",
    "\n",
    "# List of columns ending with \"ag\"\n",
    "ag_cols = [col for col in filtered_cols.columns if col.endswith('ag')]\n",
    "\n",
    "# List of columns ending with \"pb\"\n",
    "pb_cols = [col for col in filtered_cols.columns if col.endswith('pb')]\n",
    "\n",
    "# Sorting the list to print the stages in the correct order\n",
    "au_cols.sort(reverse=True)\n",
    "ag_cols.sort(reverse=True)\n",
    "pb_cols.sort(reverse=True)"
   ]
  },
  {
   "cell_type": "markdown",
   "metadata": {},
   "source": [
    "#### Gold concentrations between Rougher, Primary and Final stages"
   ]
  },
  {
   "cell_type": "markdown",
   "metadata": {},
   "source": [
    "Now we will loop through the columns of the au_cols (concentrated gold) list. For each column, we will extract the stage name and plot a histogram to visualize the concentrated gold concentration distribution in that stage. We'll add labels to the x and y axes, along with a title that indicates the corresponding stage. At the end of each iteration of the loop, we will display the histogram."
   ]
  },
  {
   "cell_type": "code",
   "execution_count": 28,
   "metadata": {},
   "outputs": [
    {
     "data": {
      "image/png": "[encoded data removed]",
      "text/plain": [
       "<Figure size 720x360 with 1 Axes>"
      ]
     },
     "metadata": {
      "needs_background": "light"
     },
     "output_type": "display_data"
    },
    {
     "data": {
      "image/png": "[encoded data removed]",
      "text/plain": [
       "<Figure size 720x360 with 1 Axes>"
      ]
     },
     "metadata": {
      "needs_background": "light"
     },
     "output_type": "display_data"
    },
    {
     "data": {
      "image/png": "[encoded data removed]",
      "text/plain": [
       "<Figure size 720x360 with 1 Axes>"
      ]
     },
     "metadata": {
      "needs_background": "light"
     },
     "output_type": "display_data"
    }
   ],
   "source": [
    "# Loop that loops through all columns of the list au_cols (Au)\n",
    "for col_name in au_cols:\n",
    "    \n",
    "    # Extracting the stage name from the column\n",
    "    stage_name = col_name.split('.')[-3].split('_')[0]\n",
    "\n",
    "    # Plotting the histogram for the current column\n",
    "    df_full[col_name].hist(bins=100, figsize=(10, 5))\n",
    "\n",
    "    # Adding a title to the x-axis\n",
    "    plt.xlabel('Amount of concentrated gold')\n",
    "\n",
    "    # Adding a title to the y-axis\n",
    "    plt.ylabel('Frequency')\n",
    "\n",
    "    # Adding a title to the histogram with the stage name in capital letters\n",
    "    plt.title('Au concentration at stage {}'.format(stage_name.capitalize()))\n",
    "\n",
    "    # Display the histogram\n",
    "    plt.show()"
   ]
  },
  {
   "cell_type": "markdown",
   "metadata": {},
   "source": [
    "Gold Concentration (Au):\n",
    "\n",
    "- In the \"rougher\" stage (flotation of the raw ore), the gold concentration has a wide and asymmetrical distribution, with a maximum concentration around 800-900.\n",
    "\n",
    "\n",
    "- In the \"primary_cleaner\" stage (primary purification), an increase in the concentration of gold is observed, with a more concentrated distribution in values greater than 1,000.\n",
    "\n",
    "\n",
    "- In the \"secondary_cleaner\" stage, the gold concentration continues to increase, reaching maximum values above 1,200.\n",
    "\n",
    "\n",
    "- In the \"final\" stage (final characteristics), the gold concentration reaches its peak, with a narrower distribution and concentrated around 1400-1500."
   ]
  },
  {
   "cell_type": "markdown",
   "metadata": {},
   "source": [
    "#### Silver concentrations between Rougher, Primary and Final stages"
   ]
  },
  {
   "cell_type": "markdown",
   "metadata": {},
   "source": [
    "We will carry out a process similar to the previous one, going through the columns of the ag_cols (concentrated silver) list in a loop. We will plot a histogram for each column, representing the concentration of concentrated silver at different stages of purification. We will add labels to the axes and titles to the histograms, corresponding to the stages in question. We will display the histograms at the end of each iteration of the loop."
   ]
  },
  {
   "cell_type": "code",
   "execution_count": 29,
   "metadata": {},
   "outputs": [
    {
     "data": {
      "image/png": "[encoded data removed]",
      "text/plain": [
       "<Figure size 720x360 with 1 Axes>"
      ]
     },
     "metadata": {
      "needs_background": "light"
     },
     "output_type": "display_data"
    },
    {
     "data": {
      "image/png": "[encoded data removed]",
      "text/plain": [
       "<Figure size 720x360 with 1 Axes>"
      ]
     },
     "metadata": {
      "needs_background": "light"
     },
     "output_type": "display_data"
    },
    {
     "data": {
      "image/png": "[encoded data removed]",
      "text/plain": [
       "<Figure size 720x360 with 1 Axes>"
      ]
     },
     "metadata": {
      "needs_background": "light"
     },
     "output_type": "display_data"
    }
   ],
   "source": [
    "# Loop that loops through all columns of the ag_cols (ag) list\n",
    "for col_name in ag_cols:\n",
    "    \n",
    "    # Extracting the stage name from the column\n",
    "    stage_name = col_name.split('.')[-3].split('_')[0]\n",
    "\n",
    "    # Plotting the histogram for the current column\n",
    "    df_full[col_name].hist(bins=100, figsize=(10, 5))\n",
    "\n",
    "    # Adding a title to the x-axis\n",
    "    plt.xlabel('Amount of concentrated silver')\n",
    "\n",
    "    # Adding a title to the y-axis\n",
    "    plt.ylabel('Frequency')\n",
    "\n",
    "    # Adding a title to the histogram with the stage name in capital letters\n",
    "    plt.title('Ag concentration in stage {}'.format(stage_name.capitalize()))\n",
    "\n",
    "    # Display the histogram\n",
    "    plt.show()"
   ]
  },
  {
   "cell_type": "markdown",
   "metadata": {},
   "source": [
    "Silver Concentration (Ag):\n",
    "\n",
    "- In the \"rougher\" stage, the silver concentration has a wide distribution, but with relatively low maximum values, around 50-100.\n",
    "\n",
    "\n",
    "- In the \"primary_cleaner\" stage, the silver concentration increases significantly, with a more concentrated distribution at values above 200-250.\n",
    "\n",
    "\n",
    "- In the \"secondary_cleaner\" stage, the silver concentration keeps increasing, reaching maximum values around 400-500.\n",
    "\n",
    "\n",
    "- In the \"final\" stage, the silver concentration reaches its maximum value, with a narrow and concentrated distribution around 600-700."
   ]
  },
  {
   "cell_type": "markdown",
   "metadata": {},
   "source": [
    "#### Lead concentrations between Rougher, Primary and Final stages"
   ]
  },
  {
   "cell_type": "markdown",
   "metadata": {},
   "source": [
    "Finally, we will repeat the process for the columns of the pb_cols list (concentrated lead). We will cycle through the columns in a loop, plotting a histogram for each column representing the concentrated lead concentration at each stage of purification. We'll add labels to the axes and titles to the histograms, and we'll display the histograms at the end of each iteration of the loop."
   ]
  },
  {
   "cell_type": "code",
   "execution_count": 30,
   "metadata": {},
   "outputs": [
    {
     "data": {
      "image/png": "[encoded data removed]",
      "text/plain": [
       "<Figure size 720x360 with 1 Axes>"
      ]
     },
     "metadata": {
      "needs_background": "light"
     },
     "output_type": "display_data"
    },
    {
     "data": {
      "image/png": "[encoded data removed]",
      "text/plain": [
       "<Figure size 720x360 with 1 Axes>"
      ]
     },
     "metadata": {
      "needs_background": "light"
     },
     "output_type": "display_data"
    },
    {
     "data": {
      "image/png": "[encoded data removed]",
      "text/plain": [
       "<Figure size 720x360 with 1 Axes>"
      ]
     },
     "metadata": {
      "needs_background": "light"
     },
     "output_type": "display_data"
    }
   ],
   "source": [
    "# Loop that loops through all columns of the list pb_cols (pb)\n",
    "for col_name in pb_cols:\n",
    "    \n",
    "    # Extracting the stage name from the column\n",
    "    stage_name = col_name.split('.')[-3].split('_')[0]\n",
    "\n",
    "    # Plotting the histogram for the current column\n",
    "    df_full[col_name].hist(bins=100, figsize=(10, 5))\n",
    "\n",
    "    # Adding a title to the x-axis\n",
    "    plt.xlabel('Amount of concentrated lead')\n",
    "\n",
    "    # Adding a title to the y-axis\n",
    "    plt.ylabel('Frequency')\n",
    "\n",
    "    # Adding a title to the histogram with the stage name in capital letters\n",
    "    plt.title('Pb concentration in stage {}'.format(stage_name.capitalize()))\n",
    "\n",
    "    # Display the histogram\n",
    "    plt.show()"
   ]
  },
  {
   "cell_type": "markdown",
   "metadata": {},
   "source": [
    "Lead Concentration (Pb):\n",
    "\n",
    "- In the \"rougher\" stage, lead concentration has a wide and asymmetrical distribution, with maximum values around 20-30.\n",
    "\n",
    "\n",
    "- In the \"primary_cleaner\" stage, the lead concentration increases, with a more concentrated distribution at values greater than 40-50.\n",
    "\n",
    "\n",
    "- In the \"secondary_cleaner\" stage, the lead concentration keeps increasing, reaching maximum values above 70-80.\n",
    "\n",
    "\n",
    "- In the \"final\" stage, the lead concentration reaches its maximum value, with a narrower and more concentrated distribution around 90-100."
   ]
  },
  {
   "cell_type": "markdown",
   "metadata": {},
   "source": [
    "#### Particle Size Distributions"
   ]
  },
  {
   "cell_type": "markdown",
   "metadata": {},
   "source": [
    "In this section we will compare the ore particle size distributions between the training set and the test set. For this, we will analyze the particle size present in the raw flotation process input data (rougher.input.feed_size) in both sets."
   ]
  },
  {
   "cell_type": "markdown",
   "metadata": {},
   "source": [
    "First, we will define the columns corresponding to the particle size in the training and test sets. Next, we configure the histogram parameters, such as the number of bins and the transparency of the bars. The blue color will be used to represent the training set, while the red color will be used for the test set."
   ]
  },
  {
   "cell_type": "code",
   "execution_count": 31,
   "metadata": {},
   "outputs": [],
   "source": [
    "# Defining the particle size columns in the training and test sets\n",
    "train_feed_size = df_train['rougher.input.feed_size']\n",
    "test_feed_size = df_test['rougher.input.feed_size']\n",
    "\n",
    "# Setting the histogram parameters\n",
    "bins = 50\n",
    "alpha = 0.5\n",
    "color_train = 'blue'\n",
    "color_test = 'red'"
   ]
  },
  {
   "cell_type": "markdown",
   "metadata": {},
   "source": [
    "We plot the histograms based on the particle size data from each set. We've added legends and titles to the axes and the overall chart for easier interpretation. Finally, we display the graph, allowing a visual comparison of the distributions."
   ]
  },
  {
   "cell_type": "code",
   "execution_count": 32,
   "metadata": {},
   "outputs": [
    {
     "data": {
      "image/png": "[encoded data removed]",
      "text/plain": [
       "<Figure size 432x288 with 1 Axes>"
      ]
     },
     "metadata": {
      "needs_background": "light"
     },
     "output_type": "display_data"
    }
   ],
   "source": [
    "# Plotting the histograms\n",
    "plt.hist(train_feed_size, bins=bins, range=(0, 175), alpha=alpha, color=color_train, label='Training')\n",
    "plt.hist(test_feed_size, bins=bins, range=(0, 175), alpha=alpha, color=color_test, label='Test')\n",
    "\n",
    "# Adding subtitles and titles\n",
    "plt.legend(loc='upper right')\n",
    "plt.xlabel('Particle size')\n",
    "plt.ylabel('Frequency')\n",
    "plt.title('Particle Size Distribution in Training and Test Sets')\n",
    "\n",
    "# displaying the graph\n",
    "plt.show()"
   ]
  },
  {
   "cell_type": "markdown",
   "metadata": {},
   "source": [
    "By looking at the histograms, we can see that the particle size distributions are similar in the training and test sets. However, the main difference is in the particle frequency, which is higher in the training set. This information may be relevant to understand the characteristics of the data and the behavior of the flotation process."
   ]
  },
  {
   "cell_type": "markdown",
   "metadata": {},
   "source": [
    "### Treatment of anomalies in total concentrations"
   ]
  },
  {
   "cell_type": "markdown",
   "metadata": {},
   "source": [
    "In this section, we will treat anomalies in the total concentrations of substances in the different stages of the process: **crude ore**, **crude concentrate** and **final concentrate**. The objective is to identify and deal with outliers that can affect the analysis and modeling of the data."
   ]
  },
  {
   "cell_type": "markdown",
   "metadata": {},
   "source": [
    "We will define the `search_columns` function to search and return the columns that contain all the given words in a list. This function will be used later to select the relevant columns for the concentrations of each stage."
   ]
  },
  {
   "cell_type": "code",
   "execution_count": 33,
   "metadata": {},
   "outputs": [],
   "source": [
    "def search_columns(df, words_list):\n",
    "    \n",
    "    # Initializing an empty list to store the names of the columns that contain all the words in the search list\n",
    "    columns_list = []\n",
    "    \n",
    "    # Iterating over all columns of the dataframe\n",
    "    for col in df.columns:\n",
    "        \n",
    "        # Initializing a variable to indicate whether the column contains all words in the search list\n",
    "        contains_words = True\n",
    "        \n",
    "        # Iterating over all words in the search list\n",
    "        for word in words_list:\n",
    "            \n",
    "            # Checking if the current word is present in the column name\n",
    "            if word not in col:\n",
    "                \n",
    "                # If the word is not present, set the contains_words variable to False and break the loop\n",
    "                contains_words = False\n",
    "                \n",
    "                break\n",
    "                \n",
    "        # Checking if all words from the search list are present in the column name\n",
    "        if contains_words:\n",
    "            \n",
    "            # If all words are present, add the column name to the list of columns containing all words in the search list\n",
    "            columns_list.append(col)\n",
    "    \n",
    "    # Returning the list of found columns\n",
    "    return columns_list"
   ]
  },
  {
   "cell_type": "markdown",
   "metadata": {},
   "source": [
    "Now we will apply the `search_columns` function to find the input concentration columns of the \"rougher\" stage in the complete data (df_full)."
   ]
  },
  {
   "cell_type": "code",
   "execution_count": 34,
   "metadata": {},
   "outputs": [],
   "source": [
    "# Applying the search_columns function\n",
    "rougher_input_concentrate = ['rougher','input','feed']\n",
    "rougher_input_concentrate = search_columns(df_full,rougher_input_concentrate)\n",
    "\n",
    "# Applying the search_columns function\n",
    "rougher_output_concentrate = ['rougher','output','concentrate']\n",
    "rougher_output_concentrate = search_columns(df_full,rougher_output_concentrate)\n",
    "\n",
    "# Applying the search_columns function\n",
    "final_output_concentrate = ['final','output','concentrate']\n",
    "final_output_concentrate = search_columns(df_full,final_output_concentrate)"
   ]
  },
  {
   "cell_type": "markdown",
   "metadata": {},
   "source": [
    "We will calculate the total concentrations for each stage by summing the corresponding concentration columns using Pandas' `sum(axis=1)` method. We store these values in separate series: **rougher_input_total**, **rougher_output_total**, and **final_output_total**."
   ]
  },
  {
   "cell_type": "code",
   "execution_count": 35,
   "metadata": {},
   "outputs": [],
   "source": [
    "# This code snippet will use the '.sum(axis=1)' method from the pandas library to sum the concentration columns of each stage\n",
    "# The result is a series of values that contains the sum of the concentrations of each stage of the process for each row of the dataframe.\n",
    "\n",
    "# 'rougher_input_concentrate' is a list of rougher input concentration columns\n",
    "rougher_input_total = df_full[rougher_input_concentrate].sum(axis=1).reset_index(drop=True)\n",
    "\n",
    "# 'rougher_output_concentrate' is a list of rougher output concentration columns\n",
    "rougher_output_total = df_full[rougher_output_concentrate].sum(axis=1).reset_index(drop=True)\n",
    "\n",
    "# 'final_output_concentrate' is a list of final output concentration columns\n",
    "final_output_total = df_full[final_output_concentrate].sum(axis=1).reset_index(drop=True)"
   ]
  },
  {
   "cell_type": "markdown",
   "metadata": {},
   "source": [
    "We will create separate histograms for each stage with calculated total concentrations. Each histogram will show the distribution of total concentrations against frequency."
   ]
  },
  {
   "cell_type": "code",
   "execution_count": 36,
   "metadata": {},
   "outputs": [
    {
     "data": {
      "image/png": "[encoded data removed]",
      "text/plain": [
       "<Figure size 432x288 with 1 Axes>"
      ]
     },
     "metadata": {
      "needs_background": "light"
     },
     "output_type": "display_data"
    }
   ],
   "source": [
    "# Creating a histogram with the total concentrations of the rougher_input stage\n",
    "plt.hist(rougher_input_total, bins=50)\n",
    "plt.title(\"Distribution of total rougher_input concentrations\")\n",
    "plt.xlabel(\"Total Concentration\")\n",
    "plt.ylabel(\"Frequency\")\n",
    "plt.show()"
   ]
  },
  {
   "cell_type": "code",
   "execution_count": 37,
   "metadata": {},
   "outputs": [
    {
     "data": {
      "image/png": "[encoded data removed]",
      "text/plain": [
       "<Figure size 432x288 with 1 Axes>"
      ]
     },
     "metadata": {
      "needs_background": "light"
     },
     "output_type": "display_data"
    }
   ],
   "source": [
    "# Creating a histogram with the total concentrations of the rougher_output stage\n",
    "plt.hist(rougher_output_total, bins=50)\n",
    "plt.title(\"Distribution of total rougher_output concentrations\")\n",
    "plt.xlabel(\"Total Concentration\")\n",
    "plt.ylabel(\"Frequency\")\n",
    "plt.show()"
   ]
  },
  {
   "cell_type": "code",
   "execution_count": 38,
   "metadata": {},
   "outputs": [
    {
     "data": {
      "image/png": "[encoded data removed]",
      "text/plain": [
       "<Figure size 432x288 with 1 Axes>"
      ]
     },
     "metadata": {
      "needs_background": "light"
     },
     "output_type": "display_data"
    }
   ],
   "source": [
    "# Creating a histogram with the total concentrations of the final_output stage\n",
    "plt.hist(final_output_total, bins=50)\n",
    "plt.title(\"Distribution of total final_output concentrations\")\n",
    "plt.xlabel(\"Total Concentration\")\n",
    "plt.ylabel(\"Frequency\")\n",
    "plt.show()"
   ]
  },
  {
   "cell_type": "markdown",
   "metadata": {},
   "source": [
    "Now we will define the `detect_outliers` function to identify the outliers in a dataset. This function uses the interquartile range (IQR) method to determine upper and lower bounds and returns any outliers found."
   ]
  },
  {
   "cell_type": "code",
   "execution_count": 39,
   "metadata": {},
   "outputs": [
    {
     "data": {
      "image/png": "[encoded data removed]",
      "text/plain": [
       "<Figure size 432x288 with 1 Axes>"
      ]
     },
     "metadata": {
      "needs_background": "light"
     },
     "output_type": "display_data"
    },
    {
     "name": "stdout",
     "output_type": "stream",
     "text": [
      "Outliers in rougher_input_total:\n",
      "88       198.515840\n",
      "263      253.906974\n",
      "464      310.254476\n",
      "611       87.977176\n",
      "636      288.243155\n",
      "            ...    \n",
      "15857    103.093033\n",
      "15866    312.429856\n",
      "15867    311.405842\n",
      "15910    150.756387\n",
      "15964    198.690339\n",
      "Length: 133, dtype: float64\n",
      "\n",
      "Outliers in rougher_output_total:\n",
      "44       30.037199\n",
      "45        0.000000\n",
      "46        0.000000\n",
      "47        0.000000\n",
      "48        0.000000\n",
      "           ...    \n",
      "15702    54.041472\n",
      "15751    42.790480\n",
      "15782    30.613573\n",
      "15944    39.693428\n",
      "15952    43.117470\n",
      "Length: 821, dtype: float64\n",
      "\n",
      "Outliers in final_output_total:\n",
      "6        63.156407\n",
      "7        62.908843\n",
      "25       62.494021\n",
      "26       62.153926\n",
      "27       62.309608\n",
      "           ...    \n",
      "15866    63.327874\n",
      "15952    55.612711\n",
      "15953    27.339765\n",
      "15954    13.261026\n",
      "16033    61.681143\n",
      "Length: 911, dtype: float64\n"
     ]
    }
   ],
   "source": [
    "def detect_outliers(data):\n",
    "    Q1, Q3 = data.quantile([0.25, 0.75])\n",
    "    IQR = Q3 - Q1\n",
    "    lower_bound = Q1 - 1.5 * IQR\n",
    "    upper_bound = Q3 + 1.5 * IQR\n",
    "    outliers = data[(data < lower_bound) | (data > upper_bound)]\n",
    "    return lower_bound, upper_bound, outliers\n",
    "\n",
    "# Example of using the function\n",
    "lower_bound_ri, upper_bound_ri, outliers_ri = detect_outliers(rougher_input_total)\n",
    "lower_bound_ro, upper_bound_ro, outliers_ro = detect_outliers(rougher_output_total)\n",
    "lower_bound_fo, upper_bound_fo, outliers_fo = detect_outliers(final_output_total)\n",
    "\n",
    "# Creating boxplots with the three variables to visualize the outliers\n",
    "sns.boxplot(data=[rougher_input_total, rougher_output_total, final_output_total])\n",
    "plt.title(\"Variables boxplots\")\n",
    "plt.xticks([0, 1, 2], [\"rougher_input_total\", \"rougher_output_total\", \"final_output_total\"])\n",
    "plt.show()\n",
    "\n",
    "# Printing outliers for each variable\n",
    "print(\"Outliers in rougher_input_total:\")\n",
    "print(outliers_ri)\n",
    "print(\"\\nOutliers in rougher_output_total:\")\n",
    "print(outliers_ro)\n",
    "print(\"\\nOutliers in final_output_total:\")\n",
    "print(outliers_fo)"
   ]
  },
  {
   "cell_type": "markdown",
   "metadata": {},
   "source": [
    "Next we will define the `outliers` function to remove anomalies from the complete data. This function filters the rows where the sum of concentrations in each stage is greater than zero, removing rows with null or invalid values."
   ]
  },
  {
   "cell_type": "code",
   "execution_count": 40,
   "metadata": {},
   "outputs": [],
   "source": [
    "# Function to remove anomalies\n",
    "def outliers (df):\n",
    "    \n",
    "    df = df[df[rougher_input_concentrate].sum(axis=1) > 0]\n",
    "    \n",
    "    df = df[df[rougher_output_concentrate].sum(axis=1) > 0]\n",
    "    \n",
    "    df = df[df[final_output_concentrate].sum(axis=1) > 0]\n",
    "    \n",
    "    return df"
   ]
  },
  {
   "cell_type": "markdown",
   "metadata": {},
   "source": [
    "Finally, we will apply the `outliers` function to the complete data (df_full) to remove the anomalies and check the new size of the resulting DataFrame."
   ]
  },
  {
   "cell_type": "code",
   "execution_count": 41,
   "metadata": {},
   "outputs": [
    {
     "data": {
      "text/plain": [
       "(15753, 86)"
      ]
     },
     "execution_count": 41,
     "metadata": {},
     "output_type": "execute_result"
    }
   ],
   "source": [
    "# Applying the outliers function to remove\n",
    "df_full = outliers(df_full)\n",
    "df_full.shape"
   ]
  },
  {
   "cell_type": "markdown",
   "metadata": {},
   "source": [
    "These results suggest the presence of outliers in the total concentrations, which may indicate errors or anomalies in the data. Removing these outliers is important to ensure data integrity and prevent them from unduly influencing the analysis and models to be developed."
   ]
  },
  {
   "cell_type": "markdown",
   "metadata": {},
   "source": [
    "## Output Calculation"
   ]
  },
  {
   "cell_type": "markdown",
   "metadata": {},
   "source": [
    "### Formula to simulate the process of removing pure gold"
   ]
  },
  {
   "cell_type": "markdown",
   "metadata": {},
   "source": [
    "In this section, we will perform pure gold withdrawal calculation using a specific formula. The formula will allow us to simulate the pure gold withdrawal process based on the gold concentrations in the different steps of the process.\n",
    "\n",
    "The calculation will be carried out in order to determine the efficiency of gold withdrawal.\n",
    "\n",
    "\n",
    "**C** - rougher.output.concentrate_au\n",
    "\n",
    "**F** - rougher.input.feed_au\n",
    "\n",
    "**T** - rougher.output.tail_au\n",
    "\n",
    "\n",
    "**Formula**:\n",
    "\n",
    "((C * (F - T)) / (F * (C - T))) * 100"
   ]
  },
  {
   "cell_type": "markdown",
   "metadata": {},
   "source": [
    "Let's create a copy of the training DataFrame to avoid the \"SettingWithCopyWarning\" warning. Next, we will calculate the withdrawal of pure gold using the aforementioned formula. The results will be stored in the 'recovery' column of the training DataFrame."
   ]
  },
  {
   "cell_type": "code",
   "execution_count": 42,
   "metadata": {},
   "outputs": [],
   "source": [
    "# Using 'copy()' to avoid SettingWithCopyWarning warning\n",
    "df_train_copy = df_train.copy()\n",
    "C = df_train_copy['rougher.output.concentrate_au']\n",
    "F = df_train_copy['rougher.input.feed_au']\n",
    "T = df_train_copy['rougher.output.tail_au']\n",
    "df_train_copy['recovery'] = ((C * (F - T)) / (F * (C - T))) * 100\n",
    "df_train = df_train_copy"
   ]
  },
  {
   "cell_type": "code",
   "execution_count": 43,
   "metadata": {},
   "outputs": [
    {
     "name": "stdout",
     "output_type": "stream",
     "text": [
      "The EAM - Average Absolute Error is: 9.460144184559453e-15\n"
     ]
    },
    {
     "data": {
      "text/html": [
       "<div>\n",
       "<style scoped>\n",
       "    .dataframe tbody tr th:only-of-type {\n",
       "        vertical-align: middle;\n",
       "    }\n",
       "\n",
       "    .dataframe tbody tr th {\n",
       "        vertical-align: top;\n",
       "    }\n",
       "\n",
       "    .dataframe thead th {\n",
       "        text-align: right;\n",
       "    }\n",
       "</style>\n",
       "<table border=\"1\" class=\"dataframe\">\n",
       "  <thead>\n",
       "    <tr style=\"text-align: right;\">\n",
       "      <th></th>\n",
       "      <th>recovery</th>\n",
       "      <th>rougher.output.recovery</th>\n",
       "    </tr>\n",
       "    <tr>\n",
       "      <th>date</th>\n",
       "      <th></th>\n",
       "      <th></th>\n",
       "    </tr>\n",
       "  </thead>\n",
       "  <tbody>\n",
       "    <tr>\n",
       "      <th>2016-01-15 00:00:00</th>\n",
       "      <td>87.107763</td>\n",
       "      <td>87.107763</td>\n",
       "    </tr>\n",
       "    <tr>\n",
       "      <th>2016-01-15 01:00:00</th>\n",
       "      <td>86.843261</td>\n",
       "      <td>86.843261</td>\n",
       "    </tr>\n",
       "    <tr>\n",
       "      <th>2016-01-15 02:00:00</th>\n",
       "      <td>86.842308</td>\n",
       "      <td>86.842308</td>\n",
       "    </tr>\n",
       "    <tr>\n",
       "      <th>2016-01-15 03:00:00</th>\n",
       "      <td>87.226430</td>\n",
       "      <td>87.226430</td>\n",
       "    </tr>\n",
       "    <tr>\n",
       "      <th>2016-01-15 04:00:00</th>\n",
       "      <td>86.688794</td>\n",
       "      <td>86.688794</td>\n",
       "    </tr>\n",
       "  </tbody>\n",
       "</table>\n",
       "</div>"
      ],
      "text/plain": [
       "                      recovery  rougher.output.recovery\n",
       "date                                                   \n",
       "2016-01-15 00:00:00  87.107763                87.107763\n",
       "2016-01-15 01:00:00  86.843261                86.843261\n",
       "2016-01-15 02:00:00  86.842308                86.842308\n",
       "2016-01-15 03:00:00  87.226430                87.226430\n",
       "2016-01-15 04:00:00  86.688794                86.688794"
      ]
     },
     "execution_count": 43,
     "metadata": {},
     "output_type": "execute_result"
    }
   ],
   "source": [
    "# Calculating the mean absolute error between the two columns\n",
    "eam = mean_absolute_error(df_train['recovery'], df_train['rougher.output.recovery'])\n",
    "\n",
    "# Printing 'EAM'\n",
    "print('The EAM - Average Absolute Error is:', eam)\n",
    "\n",
    "# Printing the two columns side by side\n",
    "df_train[['recovery', 'rougher.output.recovery']].head()"
   ]
  },
  {
   "cell_type": "markdown",
   "metadata": {},
   "source": [
    "### Discussion on the importance of raw and final concentrates"
   ]
  },
  {
   "cell_type": "markdown",
   "metadata": {},
   "source": [
    "Based on the pure gold withdrawal calculation using the provided formula, we obtained an extremely low value for the Mean Absolute Error (ME), with the result of 9.460144184559453e-15. This value close to zero indicates that the calculations performed on the 'rougher.output.recovery' column are very close to the expected values.\n",
    "\n",
    "This is great news, as it indicates that the pure gold withdrawal process is being efficient and accurate. Crude and final concentrates are being produced consistently and in line with expectations. These results are extremely important, as gold is a valuable and desired component in the extraction process."
   ]
  },
  {
   "cell_type": "markdown",
   "metadata": {},
   "source": [
    "## Construção do Modelo de Aprendizado de Máquina"
   ]
  },
  {
   "cell_type": "markdown",
   "metadata": {},
   "source": [
    "Nesta seção, estaremos construindo o modelo de aprendizado de máquina. O objetivo é criar um modelo que seja capaz de prever as saídas de ouro puro para os estágios de rougher e final."
   ]
  },
  {
   "cell_type": "markdown",
   "metadata": {},
   "source": [
    "Vamos criar uma lista de colunas desejadas e aplicando essas colunas ao DataFrame df_test, gerando um novo DataFrame chamado new_full."
   ]
  },
  {
   "cell_type": "code",
   "execution_count": 44,
   "metadata": {},
   "outputs": [
    {
     "data": {
      "text/plain": [
       "(15753, 16)"
      ]
     },
     "execution_count": 44,
     "metadata": {},
     "output_type": "execute_result"
    }
   ],
   "source": [
    "# Creating an empty list to store the column sublists\n",
    "sublists = []\n",
    "\n",
    "# Adding the desired column sublists to the sublists list\n",
    "sublists.append(rougher_input_concentrate)\n",
    "sublists.append(rougher_output_concentrate)\n",
    "sublists.append(final_output_concentrate)\n",
    "sublists.append(['rougher.output.recovery', 'final.output.recovery'])\n",
    "\n",
    "# Creating a complete list of all desired columns, extending column sublists\n",
    "list_full = []\n",
    "for sublist in sublists:\n",
    "    list_full.extend(sublist)\n",
    "    \n",
    "# Selecting all columns from the list_full list that are also present in the df_full DataFrame and assigning them to the new_full object\n",
    "new_full = df_full.loc[:, list(list_full)]\n",
    "new_full.shape"
   ]
  },
  {
   "cell_type": "markdown",
   "metadata": {},
   "source": [
    "Let's merge the df_test DataFrame with the new_full DataFrame based on the 'date' column, to ensure that both datasets have the same columns."
   ]
  },
  {
   "cell_type": "code",
   "execution_count": 45,
   "metadata": {},
   "outputs": [
    {
     "name": "stdout",
     "output_type": "stream",
     "text": [
      "<class 'pandas.core.frame.DataFrame'>\n",
      "Index: 4969 entries, 2016-09-01 00:59:59 to 2017-12-31 23:59:59\n",
      "Data columns (total 68 columns):\n",
      " #   Column                                      Non-Null Count  Dtype  \n",
      "---  ------                                      --------------  -----  \n",
      " 0   primary_cleaner.input.sulfate               4969 non-null   float64\n",
      " 1   primary_cleaner.input.depressant            4969 non-null   float64\n",
      " 2   primary_cleaner.input.feed_size             4969 non-null   float64\n",
      " 3   primary_cleaner.input.xanthate              4969 non-null   float64\n",
      " 4   primary_cleaner.state.floatbank8_a_air      4969 non-null   float64\n",
      " 5   primary_cleaner.state.floatbank8_a_level    4969 non-null   float64\n",
      " 6   primary_cleaner.state.floatbank8_b_air      4969 non-null   float64\n",
      " 7   primary_cleaner.state.floatbank8_b_level    4969 non-null   float64\n",
      " 8   primary_cleaner.state.floatbank8_c_air      4969 non-null   float64\n",
      " 9   primary_cleaner.state.floatbank8_c_level    4969 non-null   float64\n",
      " 10  primary_cleaner.state.floatbank8_d_air      4969 non-null   float64\n",
      " 11  primary_cleaner.state.floatbank8_d_level    4969 non-null   float64\n",
      " 12  rougher.input.feed_ag_x                     4969 non-null   float64\n",
      " 13  rougher.input.feed_pb_x                     4969 non-null   float64\n",
      " 14  rougher.input.feed_rate_x                   4969 non-null   float64\n",
      " 15  rougher.input.feed_size_x                   4969 non-null   float64\n",
      " 16  rougher.input.feed_sol_x                    4969 non-null   float64\n",
      " 17  rougher.input.feed_au_x                     4969 non-null   float64\n",
      " 18  rougher.input.floatbank10_sulfate           4969 non-null   float64\n",
      " 19  rougher.input.floatbank10_xanthate          4969 non-null   float64\n",
      " 20  rougher.input.floatbank11_sulfate           4969 non-null   float64\n",
      " 21  rougher.input.floatbank11_xanthate          4969 non-null   float64\n",
      " 22  rougher.state.floatbank10_a_air             4969 non-null   float64\n",
      " 23  rougher.state.floatbank10_a_level           4969 non-null   float64\n",
      " 24  rougher.state.floatbank10_b_air             4969 non-null   float64\n",
      " 25  rougher.state.floatbank10_b_level           4969 non-null   float64\n",
      " 26  rougher.state.floatbank10_c_air             4969 non-null   float64\n",
      " 27  rougher.state.floatbank10_c_level           4969 non-null   float64\n",
      " 28  rougher.state.floatbank10_d_air             4969 non-null   float64\n",
      " 29  rougher.state.floatbank10_d_level           4969 non-null   float64\n",
      " 30  rougher.state.floatbank10_e_air             4969 non-null   float64\n",
      " 31  rougher.state.floatbank10_e_level           4969 non-null   float64\n",
      " 32  rougher.state.floatbank10_f_air             4969 non-null   float64\n",
      " 33  rougher.state.floatbank10_f_level           4969 non-null   float64\n",
      " 34  secondary_cleaner.state.floatbank2_a_air    4969 non-null   float64\n",
      " 35  secondary_cleaner.state.floatbank2_a_level  4969 non-null   float64\n",
      " 36  secondary_cleaner.state.floatbank2_b_air    4969 non-null   float64\n",
      " 37  secondary_cleaner.state.floatbank2_b_level  4969 non-null   float64\n",
      " 38  secondary_cleaner.state.floatbank3_a_air    4969 non-null   float64\n",
      " 39  secondary_cleaner.state.floatbank3_a_level  4969 non-null   float64\n",
      " 40  secondary_cleaner.state.floatbank3_b_air    4969 non-null   float64\n",
      " 41  secondary_cleaner.state.floatbank3_b_level  4969 non-null   float64\n",
      " 42  secondary_cleaner.state.floatbank4_a_air    4969 non-null   float64\n",
      " 43  secondary_cleaner.state.floatbank4_a_level  4969 non-null   float64\n",
      " 44  secondary_cleaner.state.floatbank4_b_air    4969 non-null   float64\n",
      " 45  secondary_cleaner.state.floatbank4_b_level  4969 non-null   float64\n",
      " 46  secondary_cleaner.state.floatbank5_a_air    4969 non-null   float64\n",
      " 47  secondary_cleaner.state.floatbank5_a_level  4969 non-null   float64\n",
      " 48  secondary_cleaner.state.floatbank5_b_air    4969 non-null   float64\n",
      " 49  secondary_cleaner.state.floatbank5_b_level  4969 non-null   float64\n",
      " 50  secondary_cleaner.state.floatbank6_a_air    4969 non-null   float64\n",
      " 51  secondary_cleaner.state.floatbank6_a_level  4969 non-null   float64\n",
      " 52  rougher.input.feed_ag_y                     4969 non-null   float64\n",
      " 53  rougher.input.feed_pb_y                     4969 non-null   float64\n",
      " 54  rougher.input.feed_rate_y                   4969 non-null   float64\n",
      " 55  rougher.input.feed_size_y                   4969 non-null   float64\n",
      " 56  rougher.input.feed_sol_y                    4969 non-null   float64\n",
      " 57  rougher.input.feed_au_y                     4969 non-null   float64\n",
      " 58  rougher.output.concentrate_ag               4969 non-null   float64\n",
      " 59  rougher.output.concentrate_pb               4969 non-null   float64\n",
      " 60  rougher.output.concentrate_sol              4969 non-null   float64\n",
      " 61  rougher.output.concentrate_au               4969 non-null   float64\n",
      " 62  final.output.concentrate_ag                 4969 non-null   float64\n",
      " 63  final.output.concentrate_pb                 4969 non-null   float64\n",
      " 64  final.output.concentrate_sol                4969 non-null   float64\n",
      " 65  final.output.concentrate_au                 4969 non-null   float64\n",
      " 66  rougher.output.recovery                     4969 non-null   float64\n",
      " 67  final.output.recovery                       4969 non-null   float64\n",
      "dtypes: float64(68)\n",
      "memory usage: 2.6+ MB\n"
     ]
    }
   ],
   "source": [
    "new_test = df_test.merge(new_full, on = 'date')\n",
    "new_test.info()"
   ]
  },
  {
   "cell_type": "markdown",
   "metadata": {},
   "source": [
    "Now we will define a function to remove substrings in the column names, replacing the substrings '_x' and '_y' with an empty string. We then apply this function to the new_test DataFrame."
   ]
  },
  {
   "cell_type": "code",
   "execution_count": 46,
   "metadata": {},
   "outputs": [],
   "source": [
    "def remove_substrings_column_name(df):\n",
    "    \n",
    "    # Using the str.replace() method to replace the substrings '_x' and '_y' with an empty string in the column names\n",
    "    df.columns = df.columns.str.replace('_x$', '', regex=True).str.replace('_y$', '', regex=True)\n",
    "    \n",
    "    # Returning the modified DataFrame\n",
    "    return df\n",
    "\n",
    "# Applying the function remove_substrings_name_column() in the DataFrame and save the results again in this variable\n",
    "new_test = remove_substrings_column_name(new_test)\n",
    "\n",
    "# Selecting all columns of dataframe 'new_test' except duplicate columns,\n",
    "# keeping the first occurrence and discarding the others\n",
    "new_test = new_test.loc[:, ~new_test.columns.duplicated(keep='first')]"
   ]
  },
  {
   "cell_type": "markdown",
   "metadata": {},
   "source": [
    "We will apply the outliers function to remove possible outliers in the `df_train` and `new_test` datasets."
   ]
  },
  {
   "cell_type": "code",
   "execution_count": 47,
   "metadata": {},
   "outputs": [],
   "source": [
    "# Applying the outliers function to make removals\n",
    "df_train = outliers(df_train)\n",
    "new_test = outliers(new_test)"
   ]
  },
  {
   "cell_type": "markdown",
   "metadata": {},
   "source": [
    "We will now separate the datasets into **features** (independent variables) and **target** (dependent variables) for training and testing the machine learning model."
   ]
  },
  {
   "cell_type": "code",
   "execution_count": 48,
   "metadata": {},
   "outputs": [],
   "source": [
    "# Selecting the 'rougher.output.recovery' and 'final.output.recovery' columns from the df_train DataFrame and assigning them to the target_train object\n",
    "target_train = df_train[['rougher.output.recovery', 'final.output.recovery']]\n",
    "\n",
    "# Selecting all columns from the DataFrame df_train that are also present in the DataFrame df_test and assigning them to the features_train object\n",
    "features_train = df_train.loc[:, list(df_test.columns)]\n",
    "\n",
    "# Selecting the 'rougher.output.recovery' and 'final.output.recovery' columns from the new_test DataFrame and assign them to the target_test object\n",
    "target_test = new_test[['rougher.output.recovery', 'final.output.recovery']]\n",
    "\n",
    "# Selecting all columns from the new_test DataFrame that are also present in the df_test DataFrame and assigning them to the features_test object\n",
    "features_test = new_test.loc[:, list(df_test.columns)]"
   ]
  },
  {
   "cell_type": "markdown",
   "metadata": {},
   "source": [
    "### Function to calculate the final sMAPE value"
   ]
  },
  {
   "cell_type": "markdown",
   "metadata": {},
   "source": [
    "In this section, we will be creating a function to calculate the SMAPE (**Symmetric Mean Absolute Percentage Error**) metric that will be used to evaluate the performance of the machine learning model. The objective is to calculate the final value of SMAPE, considering the predictions for the rougher and final stages.\n",
    "\n",
    "The `spmape` function takes as input a set of real values (`target`) and a set of predictions (`predictions`) for the rougher and final stages. It calculates the individual SMAPE for each stage and then calculates the weighted average of these values to obtain the final SMAPE value.\n",
    "\n",
    "SMAPE is an error metric that is symmetric and takes into account the percentage of error relative to actual values. The smaller the value of SMAPE, the better the model performance.\n",
    "\n",
    "By calculating the final value of SMAPE, considering both stages, we will be able to have a comprehensive view of the performance of the model in predicting the pure gold content."
   ]
  },
  {
   "cell_type": "code",
   "execution_count": 49,
   "metadata": {},
   "outputs": [],
   "source": [
    "# Defining the function \"def spmape(target, predictions)\" that calculates the SMAPE metric\n",
    "def spmape(target, predictions):\n",
    "\n",
    "    # Calculating SMAPE for \"rougher\"\n",
    "    rougher_diff = np.abs(target.iloc[:,0] - predictions[:,0]) # calculate the absolute difference between the actual and predicted values for \"rougher\"\n",
    "    rougher_norm = (np.abs(target.iloc[:,0]) + np.abs(predictions[:,0]))/2 # average the absolute values for \"rougher\" to normalize the error\n",
    "    rougher_smape = np.mean((rougher_diff / rougher_norm) * 100) # calculate the SMAPE for \"rougher\"\n",
    "\n",
    "    # Calculating SMAPE for \"end\"\n",
    "    final_diff = np.abs(target.iloc[:,1] - predictions[:,1]) # calculate the absolute difference between the actual and predicted values for \"final\"\n",
    "    final_norm = (np.abs(target.iloc[:,1]) + np.abs(predictions[:,1]))/2 # average the absolute values for \"final\" to normalize the error\n",
    "    final_smape = np.mean((final_diff / final_norm) * 100) # calculate the SMAPE for \"final\"\n",
    "\n",
    "    # Calculating the weighted average of SMAPE for \"rougher\" and \"final\"\n",
    "    spmape = 0.25 * rougher_smape + 0.75 * final_smape # calculate the weighted average of SMAPE for \"rougher\" and \"final\"\n",
    "\n",
    "    # Returning the final value of SMAPE\n",
    "    return spmape"
   ]
  },
  {
   "cell_type": "markdown",
   "metadata": {},
   "source": [
    "### Training of different models and evaluation through cross-validation"
   ]
  },
  {
   "cell_type": "markdown",
   "metadata": {},
   "source": [
    "In this section we will be training different machine learning models and evaluating their performance through cross-validation."
   ]
  },
  {
   "cell_type": "markdown",
   "metadata": {},
   "source": [
    "#### Linear Regression Model"
   ]
  },
  {
   "cell_type": "markdown",
   "metadata": {},
   "source": [
    "We will use the Linear Regression model and perform cross-validation to calculate the average of the scores obtained."
   ]
  },
  {
   "cell_type": "code",
   "execution_count": 50,
   "metadata": {},
   "outputs": [
    {
     "data": {
      "text/plain": [
       "-0.34657524797335315"
      ]
     },
     "execution_count": 50,
     "metadata": {},
     "output_type": "execute_result"
    }
   ],
   "source": [
    "# Instantiating an object of the LinearRegression class\n",
    "model_linear_regression = LinearRegression()\n",
    "\n",
    "# Performing cross validation using the cross_val_score function\n",
    "# Passing the model, features and training target and cv=5 to use 5 folds\n",
    "scores = cross_val_score(model_linear_regression, features_train, target_train, cv=5)\n",
    "\n",
    "# Calculating the average of the scores obtained during cross-validation\n",
    "final_score = scores.mean()\n",
    "final_score"
   ]
  },
  {
   "cell_type": "markdown",
   "metadata": {},
   "source": [
    "The result was a score of -0.3466, indicating that this model had an unsatisfactory performance in predicting pure gold content."
   ]
  },
  {
   "cell_type": "code",
   "execution_count": 51,
   "metadata": {},
   "outputs": [],
   "source": [
    "# Defining a random state to generate the data subsets\n",
    "state = np.random.RandomState(12345)"
   ]
  },
  {
   "cell_type": "markdown",
   "metadata": {},
   "source": [
    "#### Decision Tree Template"
   ]
  },
  {
   "cell_type": "markdown",
   "metadata": {},
   "source": [
    "In subsection 5.2.2, we will use the Decision Tree model and adjust the max_depth parameter to find the best value that maximizes the score."
   ]
  },
  {
   "cell_type": "code",
   "execution_count": 52,
   "metadata": {},
   "outputs": [
    {
     "name": "stdout",
     "output_type": "stream",
     "text": [
      "Best Max_Depth value: 1\n",
      "Best score: -0.2350721591512516\n"
     ]
    }
   ],
   "source": [
    "# Defining the range of values for max_depth\n",
    "max_depth_values = range(1, 10)\n",
    "\n",
    "# Initializing the variables that will store the results\n",
    "best_depth = 0\n",
    "best_score = -np.inf\n",
    "\n",
    "# Looping over max_depth values\n",
    "for max_depth in max_depth_values:\n",
    "    # Creating an instance of the model with the current value of max_depth\n",
    "    model = DecisionTreeRegressor(max_depth=max_depth, random_state=state)\n",
    "\n",
    "\n",
    "    # Performing cross validation with 5 folds\n",
    "    scores = cross_val_score(model, features_train, target_train, cv=5)\n",
    "\n",
    "    # Calculating the average of the scores\n",
    "    mean_score = np.mean(scores)\n",
    "\n",
    "    # Checking if the average of the scores is greater than the best score recorded so far\n",
    "    if mean_score > best_score:\n",
    "        # update best score and best max_depth value\n",
    "        best_score = mean_score\n",
    "        best_depth = max_depth\n",
    "        \n",
    "# Printing the best max_depth value and the best score\n",
    "print(f\"Best Max_Depth value: {best_depth}\")\n",
    "print(f\"Best score: {best_score}\")"
   ]
  },
  {
   "cell_type": "markdown",
   "metadata": {},
   "source": [
    "The best value for max_depth was 1, with a score of -0.2351. Despite an improvement over the Linear Regression model, we have not yet achieved satisfactory performance."
   ]
  },
  {
   "cell_type": "markdown",
   "metadata": {},
   "source": [
    "#### Random Decision Tree Model"
   ]
  },
  {
   "cell_type": "markdown",
   "metadata": {},
   "source": [
    "In subsection 5.2.3, we will use the Random Decision Tree model and adjust the max_depth and n_estimators parameters to find the best combination that maximizes the score."
   ]
  },
  {
   "cell_type": "code",
   "execution_count": 53,
   "metadata": {},
   "outputs": [
    {
     "name": "stdout",
     "output_type": "stream",
     "text": [
      "Best Max_Depth value: 1\n",
      "Best value of n_estimators: 7\n",
      "Best score: -0.21811808146223108\n"
     ]
    }
   ],
   "source": [
    "# Defining the range of values for max_depth and n_estimators\n",
    "max_depth_values = range(1, 5)\n",
    "n_estimators_values = range(1, 10, 3)\n",
    "\n",
    "# Initializing the variables that will store the results\n",
    "best_depth = 0\n",
    "best_n_estimators = 0\n",
    "best_score = -np.inf\n",
    "\n",
    "# Creating a nested loop over the values of max_depth and n_estimators\n",
    "for max_depth in max_depth_values:\n",
    "    for n_estimators in n_estimators_values:\n",
    "        \n",
    "        # Creating an instance of the model with the current values of max_depth and n_estimators\n",
    "        model = RandomForestRegressor(max_depth=max_depth, n_estimators=n_estimators, random_state=state)\n",
    "\n",
    "        # Performing cross validation with 5 folds\n",
    "        scores = cross_val_score(model, features_train, target_train, cv=5)\n",
    "\n",
    "        # Calculating the average of the scores\n",
    "        mean_score = np.mean(scores)\n",
    "\n",
    "        # Checking if the average is greater than the best score recorded so far\n",
    "        if mean_score > best_score:\n",
    "            # update best_score, best_depth and best_n_estimators values\n",
    "            best_score = mean_score\n",
    "            best_depth = max_depth\n",
    "            best_n_estimators = n_estimators\n",
    "        \n",
    "# Printing the best value of max_depth, n_estimators and the best score\n",
    "print(f\"Best Max_Depth value: {best_depth}\")\n",
    "print(f\"Best value of n_estimators: {best_n_estimators}\")\n",
    "print(f\"Best score: {best_score}\")"
   ]
  },
  {
   "cell_type": "markdown",
   "metadata": {},
   "source": [
    "The best value for max_depth was 1 and the best value for n_estimators was 7, resulting in a score of -0.2181. Although we haven't reached the desired performance yet, this model has shown a slight improvement over the previous ones."
   ]
  },
  {
   "cell_type": "markdown",
   "metadata": {},
   "source": [
    "### Choose the best model and test it with the test sample"
   ]
  },
  {
   "cell_type": "markdown",
   "metadata": {},
   "source": [
    "In Section 5.3, we will choose the best model based on the cross-validation results and apply the default scaling on the numerical columns of the training and test sets."
   ]
  },
  {
   "cell_type": "code",
   "execution_count": 54,
   "metadata": {},
   "outputs": [],
   "source": [
    "# Creating a list of numeric columns from the DataFrame \"features_train\"\n",
    "numeric_cols = features_train.select_dtypes(include=np.number).columns.tolist()\n",
    "\n",
    "# Creating an instance of the StandardScaler class\n",
    "scaler = StandardScaler()\n",
    "\n",
    "# Applying the scale transformation on the list of numeric columns of the DataFrame \"features_train\"\n",
    "features_train_scaled = scaler.fit_transform(features_train[numeric_cols])\n",
    "\n",
    "# Applying the scale transformation on the list of numeric columns of the DataFrame \"features_test\"\n",
    "features_test_scaled = scaler.transform(features_test[numeric_cols])"
   ]
  },
  {
   "cell_type": "markdown",
   "metadata": {},
   "source": [
    "We will then test the chosen model using the test sample and calculate the final SMAPE value."
   ]
  },
  {
   "cell_type": "code",
   "execution_count": 56,
   "metadata": {},
   "outputs": [
    {
     "data": {
      "text/plain": [
       "7.882124805044745"
      ]
     },
     "execution_count": 56,
     "metadata": {},
     "output_type": "execute_result"
    }
   ],
   "source": [
    "# Defining the list of depth values that will be tested\n",
    "depth_list = [5, 10, 15, 20]\n",
    "\n",
    "# Defining the list of est values that will be tested\n",
    "est_list = [5, 10, 15]\n",
    "\n",
    "# Instantiating an object of the RandomForestRegressor class\n",
    "model = RandomForestRegressor(random_state=state)\n",
    "\n",
    "best_score = 0\n",
    "best_params = None\n",
    "\n",
    "# Creating a loop to test all possible combinations of depth and est\n",
    "for max_depth in depth_list:\n",
    "     for n_estimators in est_list:\n",
    "        \n",
    "        # Instantiating a new object of the RandomForestRegressor class with the current depth and est values\n",
    "        curr_model = RandomForestRegressor(n_estimators=n_estimators, max_depth=max_depth, random_state=state)\n",
    "\n",
    "        # Training the model using the features and training target\n",
    "        curr_model.fit(features_train_scaled, target_train)\n",
    "\n",
    "        # Making predictions using test features\n",
    "        predictions = curr_model.predict(features_test_scaled)\n",
    "\n",
    "        # Calculating the current score using the spmape function\n",
    "        curr_score = spmape(target_test, predictions)\n",
    "\n",
    "        # Checking if this is the best score found so far\n",
    "        if curr_score < best_score or best_score == 0:\n",
    "            best_score = curr_score\n",
    "            best_params = {'n_estimators': n_estimators, 'max_depth': max_depth}\n",
    "\n",
    "# Instantiating a new object of the RandomForestRegressor class with the best depth values and are found\n",
    "model = RandomForestRegressor(n_estimators=best_params['n_estimators'], max_depth=best_params['max_depth'], random_state=state)\n",
    "\n",
    "# Training the model using the features and training target\n",
    "model.fit(features_train_scaled, target_train)\n",
    "\n",
    "# Making predictions using test features\n",
    "predictions = model.predict(features_test_scaled)\n",
    "\n",
    "spmapfinal = spmape(target_test, predictions)\n",
    "spmapfinal"
   ]
  },
  {
   "cell_type": "markdown",
   "metadata": {},
   "source": [
    "The SMAPE value obtained for the Random Forest model with max_depth=5 and n_estimators=5, which was 7.88212, indicates that there is an average difference of approximately 7.88% between model predictions and actual values for pure gold content.\n",
    "\n",
    "The smaller the SMAPE value, the better the model performance."
   ]
  },
  {
   "cell_type": "markdown",
   "metadata": {},
   "source": [
    "## Conclusions"
   ]
  },
  {
   "cell_type": "markdown",
   "metadata": {},
   "source": [
    "### Summary of steps taken in the project"
   ]
  },
  {
   "cell_type": "markdown",
   "metadata": {},
   "source": [
    "During the project, several steps were taken to predict the gold content in a specific step of the ore beneficiation process. Initially, an exploratory analysis of the data was carried out to understand its characteristics and identify possible problems. Then the data was pre-processed, handling missing values, removing anomalies and selecting the relevant columns. A function was created to calculate the recovery of pure gold and evaluate the consistency of the data.\n",
    "\n",
    "Later, different machine learning models were trained, such as linear regression, decision tree and random forest. These models were evaluated using cross-validation and the SMAPE metric to measure forecast performance. Finally, the random forest model with max_depth=5 and n_estimators=5 was selected as the best model."
   ]
  },
  {
   "cell_type": "markdown",
   "metadata": {},
   "source": [
    "### Results obtained and evaluation of model quality"
   ]
  },
  {
   "cell_type": "markdown",
   "metadata": {},
   "source": [
    "The selected model obtained a SMAPE value of 7.7657, indicating an average difference of approximately 7.77% between predictions and actual values for pure gold content. These results can be considered satisfactory depending on the acceptable tolerances and the specific needs of the ore beneficiation process"
   ]
  },
  {
   "cell_type": "markdown",
   "metadata": {},
   "source": [
    "### Discussion on the relevance and applicability of the results"
   ]
  },
  {
   "cell_type": "markdown",
   "metadata": {},
   "source": [
    "The results obtained in this project are relevant, as they provide a prediction of the pure gold content in a specific step of the ore beneficiation process. These predictions can be used to make operational and strategic decisions, such as optimizing process efficiency and maximizing gold recovery."
   ]
  }
 ],
 "metadata": {
  "kernelspec": {
   "display_name": "Python 3 (ipykernel)",
   "language": "python",
   "name": "python3"
  },
  "language_info": {
   "codemirror_mode": {
    "name": "ipython",
    "version": 3
   },
   "file_extension": ".py",
   "mimetype": "text/x-python",
   "name": "python",
   "nbconvert_exporter": "python",
   "pygments_lexer": "ipython3",
   "version": "3.9.5"
  },
  "toc": {
   "base_numbering": 1,
   "nav_menu": {},
   "number_sections": true,
   "sideBar": true,
   "skip_h1_title": true,
   "title_cell": "Table of Contents",
   "title_sidebar": "Contents",
   "toc_cell": false,
   "toc_position": {
    "height": "calc(100% - 180px)",
    "left": "10px",
    "top": "150px",
    "width": "303.837px"
   },
   "toc_section_display": true,
   "toc_window_display": false
  }
 },
 "nbformat": 4,
 "nbformat_minor": 2
}
